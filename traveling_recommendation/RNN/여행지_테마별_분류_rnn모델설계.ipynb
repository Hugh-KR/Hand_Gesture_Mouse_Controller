{
  "nbformat": 4,
  "nbformat_minor": 0,
  "metadata": {
    "colab": {
      "name": "여행지 테마별 분류 rnn모델설계.ipynb",
      "provenance": []
    },
    "kernelspec": {
      "name": "python3",
      "display_name": "Python 3"
    },
    "language_info": {
      "name": "python"
    }
  },
  "cells": [
    {
      "cell_type": "code",
      "metadata": {
        "colab": {
          "base_uri": "https://localhost:8080/"
        },
        "id": "4DwfhDliKpio",
        "outputId": "2d5b49aa-f873-4b28-d50f-f1e174521dbf"
      },
      "source": [
        "!pip install konlpy"
      ],
      "execution_count": 10,
      "outputs": [
        {
          "output_type": "stream",
          "name": "stdout",
          "text": [
            "Collecting konlpy\n",
            "  Downloading konlpy-0.5.2-py2.py3-none-any.whl (19.4 MB)\n",
            "\u001b[K     |████████████████████████████████| 19.4 MB 1.4 MB/s \n",
            "\u001b[?25hRequirement already satisfied: lxml>=4.1.0 in /usr/local/lib/python3.7/dist-packages (from konlpy) (4.2.6)\n",
            "Requirement already satisfied: numpy>=1.6 in /usr/local/lib/python3.7/dist-packages (from konlpy) (1.19.5)\n",
            "Collecting colorama\n",
            "  Downloading colorama-0.4.4-py2.py3-none-any.whl (16 kB)\n",
            "Requirement already satisfied: tweepy>=3.7.0 in /usr/local/lib/python3.7/dist-packages (from konlpy) (3.10.0)\n",
            "Collecting beautifulsoup4==4.6.0\n",
            "  Downloading beautifulsoup4-4.6.0-py3-none-any.whl (86 kB)\n",
            "\u001b[K     |████████████████████████████████| 86 kB 4.9 MB/s \n",
            "\u001b[?25hCollecting JPype1>=0.7.0\n",
            "  Downloading JPype1-1.3.0-cp37-cp37m-manylinux_2_5_x86_64.manylinux1_x86_64.whl (448 kB)\n",
            "\u001b[K     |████████████████████████████████| 448 kB 62.8 MB/s \n",
            "\u001b[?25hRequirement already satisfied: typing-extensions in /usr/local/lib/python3.7/dist-packages (from JPype1>=0.7.0->konlpy) (3.7.4.3)\n",
            "Requirement already satisfied: requests[socks]>=2.11.1 in /usr/local/lib/python3.7/dist-packages (from tweepy>=3.7.0->konlpy) (2.23.0)\n",
            "Requirement already satisfied: six>=1.10.0 in /usr/local/lib/python3.7/dist-packages (from tweepy>=3.7.0->konlpy) (1.15.0)\n",
            "Requirement already satisfied: requests-oauthlib>=0.7.0 in /usr/local/lib/python3.7/dist-packages (from tweepy>=3.7.0->konlpy) (1.3.0)\n",
            "Requirement already satisfied: oauthlib>=3.0.0 in /usr/local/lib/python3.7/dist-packages (from requests-oauthlib>=0.7.0->tweepy>=3.7.0->konlpy) (3.1.1)\n",
            "Requirement already satisfied: idna<3,>=2.5 in /usr/local/lib/python3.7/dist-packages (from requests[socks]>=2.11.1->tweepy>=3.7.0->konlpy) (2.10)\n",
            "Requirement already satisfied: certifi>=2017.4.17 in /usr/local/lib/python3.7/dist-packages (from requests[socks]>=2.11.1->tweepy>=3.7.0->konlpy) (2021.5.30)\n",
            "Requirement already satisfied: chardet<4,>=3.0.2 in /usr/local/lib/python3.7/dist-packages (from requests[socks]>=2.11.1->tweepy>=3.7.0->konlpy) (3.0.4)\n",
            "Requirement already satisfied: urllib3!=1.25.0,!=1.25.1,<1.26,>=1.21.1 in /usr/local/lib/python3.7/dist-packages (from requests[socks]>=2.11.1->tweepy>=3.7.0->konlpy) (1.24.3)\n",
            "Requirement already satisfied: PySocks!=1.5.7,>=1.5.6 in /usr/local/lib/python3.7/dist-packages (from requests[socks]>=2.11.1->tweepy>=3.7.0->konlpy) (1.7.1)\n",
            "Installing collected packages: JPype1, colorama, beautifulsoup4, konlpy\n",
            "  Attempting uninstall: beautifulsoup4\n",
            "    Found existing installation: beautifulsoup4 4.6.3\n",
            "    Uninstalling beautifulsoup4-4.6.3:\n",
            "      Successfully uninstalled beautifulsoup4-4.6.3\n",
            "Successfully installed JPype1-1.3.0 beautifulsoup4-4.6.0 colorama-0.4.4 konlpy-0.5.2\n"
          ]
        }
      ]
    },
    {
      "cell_type": "code",
      "metadata": {
        "id": "TPokdXfLKoAk"
      },
      "source": [
        "import pandas as pd\n",
        "import numpy as np\n",
        "%matplotlib inline\n",
        "import matplotlib.pyplot as plt\n",
        "import re\n",
        "import urllib.request\n",
        "from konlpy.tag import Okt\n",
        "from tensorflow.keras.preprocessing.text import Tokenizer\n",
        "from tensorflow.keras.preprocessing.sequence import pad_sequences"
      ],
      "execution_count": 11,
      "outputs": []
    },
    {
      "cell_type": "code",
      "metadata": {
        "id": "9Dd6zndAJgwL"
      },
      "source": [
        "import pandas as pd"
      ],
      "execution_count": 1,
      "outputs": []
    },
    {
      "cell_type": "code",
      "metadata": {
        "id": "WcXtuM58Jjij"
      },
      "source": [
        "train_data=pd.read_csv(\"/content/여행지 테마별 분류_최종본(21.09.06).csv\")"
      ],
      "execution_count": 2,
      "outputs": []
    },
    {
      "cell_type": "code",
      "metadata": {
        "colab": {
          "base_uri": "https://localhost:8080/",
          "height": 204
        },
        "id": "P-XN5J8VJn9_",
        "outputId": "ed9dcd61-1e7a-46f1-cf0f-85204016cb60"
      },
      "source": [
        "train_data.head()"
      ],
      "execution_count": 3,
      "outputs": [
        {
          "output_type": "execute_result",
          "data": {
            "text/html": [
              "<div>\n",
              "<style scoped>\n",
              "    .dataframe tbody tr th:only-of-type {\n",
              "        vertical-align: middle;\n",
              "    }\n",
              "\n",
              "    .dataframe tbody tr th {\n",
              "        vertical-align: top;\n",
              "    }\n",
              "\n",
              "    .dataframe thead th {\n",
              "        text-align: right;\n",
              "    }\n",
              "</style>\n",
              "<table border=\"1\" class=\"dataframe\">\n",
              "  <thead>\n",
              "    <tr style=\"text-align: right;\">\n",
              "      <th></th>\n",
              "      <th>청정 우도에서 만난 청정 노을의 맑은 색</th>\n",
              "      <th>우도(해양도립공원)</th>\n",
              "      <th>자연</th>\n",
              "    </tr>\n",
              "  </thead>\n",
              "  <tbody>\n",
              "    <tr>\n",
              "      <th>0</th>\n",
              "      <td>보리밭을 지나다 아름다운 풍경에 홀릭 . 마침 남편의 생일을 맞아 멋진 사진을 남겨...</td>\n",
              "      <td>우도(해양도립공원)</td>\n",
              "      <td>자연</td>\n",
              "    </tr>\n",
              "    <tr>\n",
              "      <th>1</th>\n",
              "      <td>보리밭을 지나다 아름다운 풍경에 홀릭 . 마침 남편의 생일을 맞아 멋진 사진을 남겨...</td>\n",
              "      <td>우도(해양도립공원)</td>\n",
              "      <td>자연</td>\n",
              "    </tr>\n",
              "    <tr>\n",
              "      <th>2</th>\n",
              "      <td>우도섬에 봄이 왔습니다. 유채와 청보리 파란 하늘과 그보다 더 푸른섬 우도가 제주의...</td>\n",
              "      <td>우도(해양도립공원)</td>\n",
              "      <td>자연</td>\n",
              "    </tr>\n",
              "    <tr>\n",
              "      <th>3</th>\n",
              "      <td>일몰이 제일 아름답다는 우도 낮에 사람들로 가득한 우도는 마지막 배가 떠나고 나면 ...</td>\n",
              "      <td>우도(해양도립공원)</td>\n",
              "      <td>자연</td>\n",
              "    </tr>\n",
              "    <tr>\n",
              "      <th>4</th>\n",
              "      <td>세번째 제주여행 우도는 처음이였는데 너무 좋았어요</td>\n",
              "      <td>우도(해양도립공원)</td>\n",
              "      <td>자연</td>\n",
              "    </tr>\n",
              "  </tbody>\n",
              "</table>\n",
              "</div>"
            ],
            "text/plain": [
              "                              청정 우도에서 만난 청정 노을의 맑은 색  우도(해양도립공원)  자연\n",
              "0  보리밭을 지나다 아름다운 풍경에 홀릭 . 마침 남편의 생일을 맞아 멋진 사진을 남겨...  우도(해양도립공원)  자연\n",
              "1  보리밭을 지나다 아름다운 풍경에 홀릭 . 마침 남편의 생일을 맞아 멋진 사진을 남겨...  우도(해양도립공원)  자연\n",
              "2  우도섬에 봄이 왔습니다. 유채와 청보리 파란 하늘과 그보다 더 푸른섬 우도가 제주의...  우도(해양도립공원)  자연\n",
              "3  일몰이 제일 아름답다는 우도 낮에 사람들로 가득한 우도는 마지막 배가 떠나고 나면 ...  우도(해양도립공원)  자연\n",
              "4                        세번째 제주여행 우도는 처음이였는데 너무 좋았어요  우도(해양도립공원)  자연"
            ]
          },
          "metadata": {},
          "execution_count": 3
        }
      ]
    },
    {
      "cell_type": "code",
      "metadata": {
        "id": "dEeZy1T7Js0L"
      },
      "source": [
        "train_data.columns=['text','name','label']"
      ],
      "execution_count": 4,
      "outputs": []
    },
    {
      "cell_type": "code",
      "metadata": {
        "colab": {
          "base_uri": "https://localhost:8080/",
          "height": 204
        },
        "id": "MXq7_NkNJLVx",
        "outputId": "6dace6e9-c19e-41c6-d139-8f8f3525cc8f"
      },
      "source": [
        "train_data['text'] = train_data['text'].str.replace(\"[^ㄱ-ㅎㅏ-ㅣ가-힣 ]\",\"\")\n",
        "# 한글과 공백을 제외하고 모두 제거\n",
        "train_data[:5]"
      ],
      "execution_count": 5,
      "outputs": [
        {
          "output_type": "execute_result",
          "data": {
            "text/html": [
              "<div>\n",
              "<style scoped>\n",
              "    .dataframe tbody tr th:only-of-type {\n",
              "        vertical-align: middle;\n",
              "    }\n",
              "\n",
              "    .dataframe tbody tr th {\n",
              "        vertical-align: top;\n",
              "    }\n",
              "\n",
              "    .dataframe thead th {\n",
              "        text-align: right;\n",
              "    }\n",
              "</style>\n",
              "<table border=\"1\" class=\"dataframe\">\n",
              "  <thead>\n",
              "    <tr style=\"text-align: right;\">\n",
              "      <th></th>\n",
              "      <th>text</th>\n",
              "      <th>name</th>\n",
              "      <th>label</th>\n",
              "    </tr>\n",
              "  </thead>\n",
              "  <tbody>\n",
              "    <tr>\n",
              "      <th>0</th>\n",
              "      <td>보리밭을 지나다 아름다운 풍경에 홀릭  마침 남편의 생일을 맞아 멋진 사진을 남겨 ...</td>\n",
              "      <td>우도(해양도립공원)</td>\n",
              "      <td>자연</td>\n",
              "    </tr>\n",
              "    <tr>\n",
              "      <th>1</th>\n",
              "      <td>보리밭을 지나다 아름다운 풍경에 홀릭  마침 남편의 생일을 맞아 멋진 사진을 남겨 ...</td>\n",
              "      <td>우도(해양도립공원)</td>\n",
              "      <td>자연</td>\n",
              "    </tr>\n",
              "    <tr>\n",
              "      <th>2</th>\n",
              "      <td>우도섬에 봄이 왔습니다 유채와 청보리 파란 하늘과 그보다 더 푸른섬 우도가 제주의 ...</td>\n",
              "      <td>우도(해양도립공원)</td>\n",
              "      <td>자연</td>\n",
              "    </tr>\n",
              "    <tr>\n",
              "      <th>3</th>\n",
              "      <td>일몰이 제일 아름답다는 우도 낮에 사람들로 가득한 우도는 마지막 배가 떠나고 나면 ...</td>\n",
              "      <td>우도(해양도립공원)</td>\n",
              "      <td>자연</td>\n",
              "    </tr>\n",
              "    <tr>\n",
              "      <th>4</th>\n",
              "      <td>세번째 제주여행 우도는 처음이였는데 너무 좋았어요</td>\n",
              "      <td>우도(해양도립공원)</td>\n",
              "      <td>자연</td>\n",
              "    </tr>\n",
              "  </tbody>\n",
              "</table>\n",
              "</div>"
            ],
            "text/plain": [
              "                                                text        name label\n",
              "0  보리밭을 지나다 아름다운 풍경에 홀릭  마침 남편의 생일을 맞아 멋진 사진을 남겨 ...  우도(해양도립공원)    자연\n",
              "1  보리밭을 지나다 아름다운 풍경에 홀릭  마침 남편의 생일을 맞아 멋진 사진을 남겨 ...  우도(해양도립공원)    자연\n",
              "2  우도섬에 봄이 왔습니다 유채와 청보리 파란 하늘과 그보다 더 푸른섬 우도가 제주의 ...  우도(해양도립공원)    자연\n",
              "3  일몰이 제일 아름답다는 우도 낮에 사람들로 가득한 우도는 마지막 배가 떠나고 나면 ...  우도(해양도립공원)    자연\n",
              "4                        세번째 제주여행 우도는 처음이였는데 너무 좋았어요  우도(해양도립공원)    자연"
            ]
          },
          "metadata": {},
          "execution_count": 5
        }
      ]
    },
    {
      "cell_type": "code",
      "metadata": {
        "colab": {
          "base_uri": "https://localhost:8080/"
        },
        "id": "WFQbmAPlKGwr",
        "outputId": "f472e355-e0b6-4fd0-bed6-584a66921bba"
      },
      "source": [
        "print(train_data.isnull().sum())"
      ],
      "execution_count": 6,
      "outputs": [
        {
          "output_type": "stream",
          "name": "stdout",
          "text": [
            "text     0\n",
            "name     0\n",
            "label    0\n",
            "dtype: int64\n"
          ]
        }
      ]
    },
    {
      "cell_type": "code",
      "metadata": {
        "id": "eRHbV0fZKY4N"
      },
      "source": [
        "stopwords = ['의','가','이','은','들','는','좀','잘','걍','과','도','를','으로','자','에','와','한','하다']"
      ],
      "execution_count": 7,
      "outputs": []
    },
    {
      "cell_type": "code",
      "metadata": {
        "colab": {
          "base_uri": "https://localhost:8080/"
        },
        "id": "4I0bIn7fKgXg",
        "outputId": "3d7d248c-a755-40fc-cdbb-2e38283747d5"
      },
      "source": [
        "okt = Okt()\n",
        "okt.morphs('와 이런 것도 영화라고 차라리 뮤직비디오를 만드는 게 나을 뻔', stem = True)"
      ],
      "execution_count": 12,
      "outputs": [
        {
          "output_type": "execute_result",
          "data": {
            "text/plain": [
              "['오다', '이렇다', '것', '도', '영화', '라고', '차라리', '뮤직비디오', '를', '만들다', '게', '나다', '뻔']"
            ]
          },
          "metadata": {},
          "execution_count": 12
        }
      ]
    },
    {
      "cell_type": "code",
      "metadata": {
        "id": "vX-iI1shKxX5"
      },
      "source": [
        "X_train = []\n",
        "for sentence in train_data['text']:\n",
        "    temp_X = okt.morphs(sentence, stem=True) # 토큰화\n",
        "    temp_X = [word for word in temp_X if not word in stopwords] # 불용어 제거\n",
        "    X_train.append(temp_X)"
      ],
      "execution_count": 13,
      "outputs": []
    },
    {
      "cell_type": "code",
      "metadata": {
        "id": "yUYBduwUK6Hj"
      },
      "source": [
        "tokenizer = Tokenizer()\n",
        "tokenizer.fit_on_texts(X_train)"
      ],
      "execution_count": 14,
      "outputs": []
    },
    {
      "cell_type": "code",
      "metadata": {
        "colab": {
          "base_uri": "https://localhost:8080/"
        },
        "id": "Idkv1W3YLFoj",
        "outputId": "bddd019e-8c8e-431a-ded1-28a35ef5c514"
      },
      "source": [
        "threshold = 3\n",
        "total_cnt = len(tokenizer.word_index) # 단어의 수\n",
        "rare_cnt = 0 # 등장 빈도수가 threshold보다 작은 단어의 개수를 카운트\n",
        "total_freq = 0 # 훈련 데이터의 전체 단어 빈도수 총 합\n",
        "rare_freq = 0 # 등장 빈도수가 threshold보다 작은 단어의 등장 빈도수의 총 합\n",
        "\n",
        "# 단어와 빈도수의 쌍(pair)을 key와 value로 받는다.\n",
        "for key, value in tokenizer.word_counts.items():\n",
        "    total_freq = total_freq + value\n",
        "\n",
        "    # 단어의 등장 빈도수가 threshold보다 작으면\n",
        "    if(value < threshold):\n",
        "        rare_cnt = rare_cnt + 1\n",
        "        rare_freq = rare_freq + value\n",
        "\n",
        "print('단어 집합(vocabulary)의 크기 :',total_cnt)\n",
        "print('등장 빈도가 %s번 이하인 희귀 단어의 수: %s'%(threshold - 1, rare_cnt))\n",
        "print(\"단어 집합에서 희귀 단어의 비율:\", (rare_cnt / total_cnt)*100)\n",
        "print(\"전체 등장 빈도에서 희귀 단어 등장 빈도 비율:\", (rare_freq / total_freq)*100)"
      ],
      "execution_count": 15,
      "outputs": [
        {
          "output_type": "stream",
          "name": "stdout",
          "text": [
            "단어 집합(vocabulary)의 크기 : 10228\n",
            "등장 빈도가 2번 이하인 희귀 단어의 수: 5808\n",
            "단어 집합에서 희귀 단어의 비율: 56.78529526789207\n",
            "전체 등장 빈도에서 희귀 단어 등장 빈도 비율: 4.3621597232666565\n"
          ]
        }
      ]
    },
    {
      "cell_type": "code",
      "metadata": {
        "colab": {
          "base_uri": "https://localhost:8080/"
        },
        "id": "mjk-4jD6LL-K",
        "outputId": "410d7276-3a92-489e-d9ad-f9ea9329ce49"
      },
      "source": [
        "vocab_size = total_cnt - rare_cnt + 1\n",
        "print('단어 집합의 크기 :',vocab_size)"
      ],
      "execution_count": 16,
      "outputs": [
        {
          "output_type": "stream",
          "name": "stdout",
          "text": [
            "단어 집합의 크기 : 4421\n"
          ]
        }
      ]
    },
    {
      "cell_type": "code",
      "metadata": {
        "id": "JqyjPd-bLPpy"
      },
      "source": [
        "tokenizer = Tokenizer(vocab_size)\n",
        "tokenizer.fit_on_texts(X_train)\n",
        "X_train = tokenizer.texts_to_sequences(X_train)"
      ],
      "execution_count": 17,
      "outputs": []
    },
    {
      "cell_type": "code",
      "metadata": {
        "colab": {
          "base_uri": "https://localhost:8080/"
        },
        "id": "UkSIg57cLZrF",
        "outputId": "2cfea8d8-6119-44bf-fe0a-7ff94a19805a"
      },
      "source": [
        "print(X_train[:3])"
      ],
      "execution_count": 18,
      "outputs": [
        {
          "output_type": "stream",
          "name": "stdout",
          "text": [
            "[[2364, 1, 717, 18, 72, 2864, 1541, 770, 1349, 1, 365, 69, 23, 1, 1063, 201, 223, 21, 1, 3201, 23, 60, 749, 3202, 63, 102, 5, 18, 1918, 1702, 8, 2198, 18, 1622, 251, 62], [2364, 1, 717, 18, 72, 2864, 1541, 770, 1349, 1, 365, 69, 23, 1, 1063, 201, 223, 21, 1, 3201, 23, 60, 749, 3202, 63, 102, 5, 18, 1918, 1702, 8, 2198, 18, 1622, 251, 62], [48, 155, 245, 30, 1919, 718, 1064, 181, 31, 9, 37, 377, 155, 48, 6, 26, 8, 1259, 2, 48, 8, 245, 1, 750]]\n"
          ]
        }
      ]
    },
    {
      "cell_type": "code",
      "metadata": {
        "colab": {
          "base_uri": "https://localhost:8080/"
        },
        "id": "y9FRSXZ_LxfL",
        "outputId": "796bd67c-83ad-42f2-e026-569ade8f2155"
      },
      "source": [
        "train_data['label']"
      ],
      "execution_count": 20,
      "outputs": [
        {
          "output_type": "execute_result",
          "data": {
            "text/plain": [
              "0       자연\n",
              "1       자연\n",
              "2       자연\n",
              "3       자연\n",
              "4       자연\n",
              "        ..\n",
              "6067    교육\n",
              "6068    교육\n",
              "6069    교육\n",
              "6070    교육\n",
              "6071    교육\n",
              "Name: label, Length: 6072, dtype: object"
            ]
          },
          "metadata": {},
          "execution_count": 20
        }
      ]
    },
    {
      "cell_type": "code",
      "metadata": {
        "id": "WW3EOiufLzOE"
      },
      "source": [
        "from sklearn.preprocessing import LabelEncoder\n",
        "encoder=LabelEncoder()\n",
        "y=encoder.fit_transform(train_data['label'])\n",
        "train_data['label']=y"
      ],
      "execution_count": 21,
      "outputs": []
    },
    {
      "cell_type": "code",
      "metadata": {
        "id": "iJG9NgdWLcFl"
      },
      "source": [
        "y_train = np.array(train_data['label'])"
      ],
      "execution_count": 23,
      "outputs": []
    },
    {
      "cell_type": "code",
      "metadata": {
        "id": "hhF7MCZ4Lqxr"
      },
      "source": [
        "drop_train = [index for index, sentence in enumerate(X_train) if len(sentence) < 1]"
      ],
      "execution_count": 24,
      "outputs": []
    },
    {
      "cell_type": "code",
      "metadata": {
        "colab": {
          "base_uri": "https://localhost:8080/"
        },
        "id": "Rf4FVTmUMHy3",
        "outputId": "9710db84-f408-4f81-c169-e0ceee097457"
      },
      "source": [
        "X_train = np.delete(X_train, drop_train, axis=0)\n",
        "y_train = np.delete(y_train, drop_train, axis=0)\n",
        "print(len(X_train))\n",
        "print(len(y_train))"
      ],
      "execution_count": 25,
      "outputs": [
        {
          "output_type": "stream",
          "name": "stdout",
          "text": [
            "6072\n",
            "6072\n"
          ]
        },
        {
          "output_type": "stream",
          "name": "stderr",
          "text": [
            "/usr/local/lib/python3.7/dist-packages/numpy/core/_asarray.py:83: VisibleDeprecationWarning: Creating an ndarray from ragged nested sequences (which is a list-or-tuple of lists-or-tuples-or ndarrays with different lengths or shapes) is deprecated. If you meant to do this, you must specify 'dtype=object' when creating the ndarray\n",
            "  return array(a, dtype, copy=False, order=order)\n"
          ]
        }
      ]
    },
    {
      "cell_type": "code",
      "metadata": {
        "colab": {
          "base_uri": "https://localhost:8080/",
          "height": 315
        },
        "id": "Qz9Wu2DfMLFL",
        "outputId": "cb7574cd-9554-48ca-ccc7-766435407475"
      },
      "source": [
        "print('리뷰의 최대 길이 :',max(len(l) for l in X_train))\n",
        "print('리뷰의 평균 길이 :',sum(map(len, X_train))/len(X_train))\n",
        "plt.hist([len(s) for s in X_train], bins=50)\n",
        "plt.xlabel('length of samples')\n",
        "plt.ylabel('number of samples')\n",
        "plt.show()"
      ],
      "execution_count": 26,
      "outputs": [
        {
          "output_type": "stream",
          "name": "stdout",
          "text": [
            "리뷰의 최대 길이 : 302\n",
            "리뷰의 평균 길이 : 26.18148880105402\n"
          ]
        },
        {
          "output_type": "display_data",
          "data": {
            "image/png": "[encoded data removed]",
            "text/plain": [
              "<Figure size 432x288 with 1 Axes>"
            ]
          },
          "metadata": {
            "needs_background": "light"
          }
        }
      ]
    },
    {
      "cell_type": "code",
      "metadata": {
        "id": "W0nmxKq8MQXY"
      },
      "source": [
        "def below_threshold_len(max_len, nested_list):\n",
        "  cnt = 0\n",
        "  for s in nested_list:\n",
        "    if(len(s) <= max_len):\n",
        "        cnt = cnt + 1\n",
        "  print('전체 샘플 중 길이가 %s 이하인 샘플의 비율: %s'%(max_len, (cnt / len(nested_list))*100))"
      ],
      "execution_count": 27,
      "outputs": []
    },
    {
      "cell_type": "code",
      "metadata": {
        "colab": {
          "base_uri": "https://localhost:8080/"
        },
        "id": "er_5BFERMWR7",
        "outputId": "fa1820ff-c2fd-42dd-da2c-d3bbe698e0a7"
      },
      "source": [
        "max_len = 100\n",
        "below_threshold_len(max_len, X_train)"
      ],
      "execution_count": 28,
      "outputs": [
        {
          "output_type": "stream",
          "name": "stdout",
          "text": [
            "전체 샘플 중 길이가 100 이하인 샘플의 비율: 98.78129117259552\n"
          ]
        }
      ]
    },
    {
      "cell_type": "code",
      "metadata": {
        "id": "j7gaBsDHMhLV"
      },
      "source": [
        "X_train = pad_sequences(X_train, maxlen = max_len)"
      ],
      "execution_count": 29,
      "outputs": []
    },
    {
      "cell_type": "code",
      "metadata": {
        "id": "XzvbMR2yMj7I"
      },
      "source": [
        "from tensorflow.keras.layers import Embedding, Dense, LSTM\n",
        "from tensorflow.keras.models import Sequential\n",
        "from tensorflow.keras.models import load_model\n",
        "from tensorflow.keras.callbacks import EarlyStopping, ModelCheckpoint"
      ],
      "execution_count": 30,
      "outputs": []
    },
    {
      "cell_type": "code",
      "metadata": {
        "id": "yjYLsqCuMoRC"
      },
      "source": [
        "model = Sequential()\n",
        "model.add(Embedding(vocab_size, 100))\n",
        "model.add(LSTM(128))\n",
        "model.add(Dense(3, activation='softmax'))"
      ],
      "execution_count": 31,
      "outputs": []
    },
    {
      "cell_type": "code",
      "metadata": {
        "id": "YUZ5LaWlMwRm"
      },
      "source": [
        "es = EarlyStopping(monitor='val_loss', mode='min', verbose=1, patience=4)\n",
        "mc = ModelCheckpoint('best_model.h5', monitor='val_acc', mode='max', verbose=1, save_best_only=True)"
      ],
      "execution_count": 32,
      "outputs": []
    },
    {
      "cell_type": "code",
      "metadata": {
        "colab": {
          "base_uri": "https://localhost:8080/"
        },
        "id": "0oveCXWnMzxx",
        "outputId": "f793daad-320f-4790-c2f3-b79c8f30e424"
      },
      "source": [
        "model.compile(optimizer='rmsprop', loss='sparse_categorical_crossentropy', metrics=['acc'])\n",
        "history = model.fit(X_train, y_train, epochs=15, callbacks=[es, mc], batch_size=60, validation_split=0.2)"
      ],
      "execution_count": 34,
      "outputs": [
        {
          "output_type": "stream",
          "name": "stdout",
          "text": [
            "Epoch 1/15\n",
            "81/81 [==============================] - 25s 259ms/step - loss: 0.7373 - acc: 0.6866 - val_loss: 1.2837 - val_acc: 0.2790\n",
            "\n",
            "Epoch 00001: val_acc improved from -inf to 0.27901, saving model to best_model.h5\n",
            "Epoch 2/15\n",
            "81/81 [==============================] - 19s 230ms/step - loss: 0.2732 - acc: 0.9047 - val_loss: 1.7041 - val_acc: 0.3926\n",
            "\n",
            "Epoch 00002: val_acc improved from 0.27901 to 0.39259, saving model to best_model.h5\n",
            "Epoch 3/15\n",
            "81/81 [==============================] - 19s 237ms/step - loss: 0.1750 - acc: 0.9456 - val_loss: 1.7455 - val_acc: 0.4584\n",
            "\n",
            "Epoch 00003: val_acc improved from 0.39259 to 0.45844, saving model to best_model.h5\n",
            "Epoch 4/15\n",
            "81/81 [==============================] - 19s 239ms/step - loss: 0.1181 - acc: 0.9658 - val_loss: 1.2625 - val_acc: 0.6296\n",
            "\n",
            "Epoch 00004: val_acc improved from 0.45844 to 0.62963, saving model to best_model.h5\n",
            "Epoch 5/15\n",
            "81/81 [==============================] - 19s 233ms/step - loss: 0.0735 - acc: 0.9780 - val_loss: 1.3469 - val_acc: 0.6173\n",
            "\n",
            "Epoch 00005: val_acc did not improve from 0.62963\n",
            "Epoch 6/15\n",
            "81/81 [==============================] - 19s 240ms/step - loss: 0.0528 - acc: 0.9850 - val_loss: 1.2852 - val_acc: 0.6601\n",
            "\n",
            "Epoch 00006: val_acc improved from 0.62963 to 0.66008, saving model to best_model.h5\n",
            "Epoch 7/15\n",
            "81/81 [==============================] - 19s 236ms/step - loss: 0.0435 - acc: 0.9870 - val_loss: 2.4390 - val_acc: 0.4412\n",
            "\n",
            "Epoch 00007: val_acc did not improve from 0.66008\n",
            "Epoch 8/15\n",
            "81/81 [==============================] - 19s 232ms/step - loss: 0.0268 - acc: 0.9922 - val_loss: 1.8899 - val_acc: 0.5761\n",
            "\n",
            "Epoch 00008: val_acc did not improve from 0.66008\n",
            "Epoch 00008: early stopping\n"
          ]
        }
      ]
    },
    {
      "cell_type": "code",
      "metadata": {
        "id": "2vtq_tWIORxl"
      },
      "source": [
        "test_data=pd.read_csv(\"/content/여행지_45개_테스트 데이터_test_1.csv\",encoding='cp949')"
      ],
      "execution_count": 62,
      "outputs": []
    },
    {
      "cell_type": "code",
      "metadata": {
        "colab": {
          "base_uri": "https://localhost:8080/",
          "height": 305
        },
        "id": "kuX-0_QBNzWM",
        "outputId": "074f4552-4c22-44db-b824-439fddb34541"
      },
      "source": [
        "test_data.head()"
      ],
      "execution_count": 63,
      "outputs": [
        {
          "output_type": "execute_result",
          "data": {
            "text/html": [
              "<div>\n",
              "<style scoped>\n",
              "    .dataframe tbody tr th:only-of-type {\n",
              "        vertical-align: middle;\n",
              "    }\n",
              "\n",
              "    .dataframe tbody tr th {\n",
              "        vertical-align: top;\n",
              "    }\n",
              "\n",
              "    .dataframe thead th {\n",
              "        text-align: right;\n",
              "    }\n",
              "</style>\n",
              "<table border=\"1\" class=\"dataframe\">\n",
              "  <thead>\n",
              "    <tr style=\"text-align: right;\">\n",
              "      <th></th>\n",
              "      <th>성산 일출봉</th>\n",
              "      <th>자연</th>\n",
              "      <th>푸른 바다 사이에 우뚝 솟은 성채와 같은 모양, 봉우리 정상에 있는 거대한 사발 모양의 분화구, 그리고 그 위에서 맞이하는 일출의 장관 때문에 성산일출봉은 많은 사람들의 감흥과 탄성을 자아낸다. 성산일출봉과 어우러진 경치는 아름답고 장관이다.</th>\n",
              "    </tr>\n",
              "  </thead>\n",
              "  <tbody>\n",
              "    <tr>\n",
              "      <th>0</th>\n",
              "      <td>사려니숲길</td>\n",
              "      <td>자연</td>\n",
              "      <td>사려니숲길은 제주의 숨은 비경 31곳 중 하나로, 비자림로를 시작으로 물찻오름과 사...</td>\n",
              "    </tr>\n",
              "    <tr>\n",
              "      <th>1</th>\n",
              "      <td>협재 해수욕장</td>\n",
              "      <td>자연</td>\n",
              "      <td>투명한 물에 에메랄드빛 물감을 서서히 풀어놓은 듯한 바다빛은 보는 것만으로도 힐링이...</td>\n",
              "    </tr>\n",
              "    <tr>\n",
              "      <th>2</th>\n",
              "      <td>월정리 해변</td>\n",
              "      <td>자연</td>\n",
              "      <td>아름다운 에메랄드빛 바다가 한 폭의 그림처럼 펼쳐져 있고, 그 위에는 밝은 달이 비...</td>\n",
              "    </tr>\n",
              "    <tr>\n",
              "      <th>3</th>\n",
              "      <td>함덕 해수욕장</td>\n",
              "      <td>자연</td>\n",
              "      <td>입구부터 환영해주는 키 큰 야자수들, 하얀 모래와 대조를 이루는 에메랄드빛 바다, ...</td>\n",
              "    </tr>\n",
              "    <tr>\n",
              "      <th>4</th>\n",
              "      <td>산굼부리</td>\n",
              "      <td>자연</td>\n",
              "      <td>천연기념물 분화구이다. 이곳은 다양한 희귀식물들이 한 공간에 존재하는 '분화구 식물...</td>\n",
              "    </tr>\n",
              "  </tbody>\n",
              "</table>\n",
              "</div>"
            ],
            "text/plain": [
              "     성산 일출봉  ... 푸른 바다 사이에 우뚝 솟은 성채와 같은 모양, 봉우리 정상에 있는 거대한 사발 모양의 분화구, 그리고 그 위에서 맞이하는 일출의 장관 때문에 성산일출봉은 많은 사람들의 감흥과 탄성을 자아낸다. 성산일출봉과 어우러진 경치는 아름답고 장관이다.\n",
              "0     사려니숲길  ...  사려니숲길은 제주의 숨은 비경 31곳 중 하나로, 비자림로를 시작으로 물찻오름과 사...                                                                                     \n",
              "1   협재 해수욕장  ...  투명한 물에 에메랄드빛 물감을 서서히 풀어놓은 듯한 바다빛은 보는 것만으로도 힐링이...                                                                                     \n",
              "2    월정리 해변  ...  아름다운 에메랄드빛 바다가 한 폭의 그림처럼 펼쳐져 있고, 그 위에는 밝은 달이 비...                                                                                     \n",
              "3  함덕 해수욕장   ...  입구부터 환영해주는 키 큰 야자수들, 하얀 모래와 대조를 이루는 에메랄드빛 바다, ...                                                                                     \n",
              "4      산굼부리  ...  천연기념물 분화구이다. 이곳은 다양한 희귀식물들이 한 공간에 존재하는 '분화구 식물...                                                                                     \n",
              "\n",
              "[5 rows x 3 columns]"
            ]
          },
          "metadata": {},
          "execution_count": 63
        }
      ]
    },
    {
      "cell_type": "code",
      "metadata": {
        "id": "Zweu36cqOzC-"
      },
      "source": [
        "test_data.columns=['name','label','text']"
      ],
      "execution_count": 64,
      "outputs": []
    },
    {
      "cell_type": "code",
      "metadata": {
        "colab": {
          "base_uri": "https://localhost:8080/",
          "height": 204
        },
        "id": "cU0fWBr2O4gS",
        "outputId": "32177ece-1e62-408a-cbc5-00daf004cc9c"
      },
      "source": [
        "test_data.head()"
      ],
      "execution_count": 65,
      "outputs": [
        {
          "output_type": "execute_result",
          "data": {
            "text/html": [
              "<div>\n",
              "<style scoped>\n",
              "    .dataframe tbody tr th:only-of-type {\n",
              "        vertical-align: middle;\n",
              "    }\n",
              "\n",
              "    .dataframe tbody tr th {\n",
              "        vertical-align: top;\n",
              "    }\n",
              "\n",
              "    .dataframe thead th {\n",
              "        text-align: right;\n",
              "    }\n",
              "</style>\n",
              "<table border=\"1\" class=\"dataframe\">\n",
              "  <thead>\n",
              "    <tr style=\"text-align: right;\">\n",
              "      <th></th>\n",
              "      <th>name</th>\n",
              "      <th>label</th>\n",
              "      <th>text</th>\n",
              "    </tr>\n",
              "  </thead>\n",
              "  <tbody>\n",
              "    <tr>\n",
              "      <th>0</th>\n",
              "      <td>사려니숲길</td>\n",
              "      <td>자연</td>\n",
              "      <td>사려니숲길은 제주의 숨은 비경 31곳 중 하나로, 비자림로를 시작으로 물찻오름과 사...</td>\n",
              "    </tr>\n",
              "    <tr>\n",
              "      <th>1</th>\n",
              "      <td>협재 해수욕장</td>\n",
              "      <td>자연</td>\n",
              "      <td>투명한 물에 에메랄드빛 물감을 서서히 풀어놓은 듯한 바다빛은 보는 것만으로도 힐링이...</td>\n",
              "    </tr>\n",
              "    <tr>\n",
              "      <th>2</th>\n",
              "      <td>월정리 해변</td>\n",
              "      <td>자연</td>\n",
              "      <td>아름다운 에메랄드빛 바다가 한 폭의 그림처럼 펼쳐져 있고, 그 위에는 밝은 달이 비...</td>\n",
              "    </tr>\n",
              "    <tr>\n",
              "      <th>3</th>\n",
              "      <td>함덕 해수욕장</td>\n",
              "      <td>자연</td>\n",
              "      <td>입구부터 환영해주는 키 큰 야자수들, 하얀 모래와 대조를 이루는 에메랄드빛 바다, ...</td>\n",
              "    </tr>\n",
              "    <tr>\n",
              "      <th>4</th>\n",
              "      <td>산굼부리</td>\n",
              "      <td>자연</td>\n",
              "      <td>천연기념물 분화구이다. 이곳은 다양한 희귀식물들이 한 공간에 존재하는 '분화구 식물...</td>\n",
              "    </tr>\n",
              "  </tbody>\n",
              "</table>\n",
              "</div>"
            ],
            "text/plain": [
              "       name label                                               text\n",
              "0     사려니숲길    자연  사려니숲길은 제주의 숨은 비경 31곳 중 하나로, 비자림로를 시작으로 물찻오름과 사...\n",
              "1   협재 해수욕장    자연  투명한 물에 에메랄드빛 물감을 서서히 풀어놓은 듯한 바다빛은 보는 것만으로도 힐링이...\n",
              "2    월정리 해변    자연  아름다운 에메랄드빛 바다가 한 폭의 그림처럼 펼쳐져 있고, 그 위에는 밝은 달이 비...\n",
              "3  함덕 해수욕장     자연  입구부터 환영해주는 키 큰 야자수들, 하얀 모래와 대조를 이루는 에메랄드빛 바다, ...\n",
              "4      산굼부리    자연  천연기념물 분화구이다. 이곳은 다양한 희귀식물들이 한 공간에 존재하는 '분화구 식물..."
            ]
          },
          "metadata": {},
          "execution_count": 65
        }
      ]
    },
    {
      "cell_type": "code",
      "metadata": {
        "colab": {
          "base_uri": "https://localhost:8080/",
          "height": 170
        },
        "id": "3TGShzkFaIz4",
        "outputId": "ad5d9012-1d46-493f-b7d8-228cd180331c"
      },
      "source": [
        ""
      ],
      "execution_count": 61,
      "outputs": [
        {
          "output_type": "error",
          "ename": "NameError",
          "evalue": "ignored",
          "traceback": [
            "\u001b[0;31m---------------------------------------------------------------------------\u001b[0m",
            "\u001b[0;31mNameError\u001b[0m                                 Traceback (most recent call last)",
            "\u001b[0;32m<ipython-input-61-77247f34b990>\u001b[0m in \u001b[0;36m<module>\u001b[0;34m()\u001b[0m\n\u001b[0;32m----> 1\u001b[0;31m \u001b[0minfo\u001b[0m\u001b[0;34m(\u001b[0m\u001b[0mtest_data\u001b[0m\u001b[0;34m)\u001b[0m\u001b[0;34m\u001b[0m\u001b[0;34m\u001b[0m\u001b[0m\n\u001b[0m",
            "\u001b[0;31mNameError\u001b[0m: name 'info' is not defined"
          ]
        }
      ]
    },
    {
      "cell_type": "code",
      "metadata": {
        "id": "avGEB2sYOqy6"
      },
      "source": [
        "test_data['text'] = test_data['text'].str.replace(\"[^ㄱ-ㅎㅏ-ㅣ가-힣 ]\",\"\")"
      ],
      "execution_count": 66,
      "outputs": []
    },
    {
      "cell_type": "code",
      "metadata": {
        "colab": {
          "base_uri": "https://localhost:8080/"
        },
        "id": "6o15VvVRO_nE",
        "outputId": "b7432e59-ecff-4489-ca9f-fa54562d3684"
      },
      "source": [
        "test_data['text'] = test_data['text'].str.replace('^ +', \"\") # white space 데이터를 empty value로 변경\n",
        "test_data['text'].replace('', np.nan, inplace=True)\n",
        "print(test_data.isnull().sum())"
      ],
      "execution_count": 67,
      "outputs": [
        {
          "output_type": "stream",
          "name": "stdout",
          "text": [
            "name     0\n",
            "label    0\n",
            "text     0\n",
            "dtype: int64\n"
          ]
        }
      ]
    },
    {
      "cell_type": "code",
      "metadata": {
        "id": "JwiwQrQIPYUG"
      },
      "source": [
        "X_test = []\n",
        "for sentence in test_data['text']:\n",
        "    temp_X = okt.morphs(sentence, stem=True) # 토큰화\n",
        "    temp_X = [word for word in temp_X if not word in stopwords] # 불용어 제거\n",
        "    X_test.append(temp_X)"
      ],
      "execution_count": 68,
      "outputs": []
    },
    {
      "cell_type": "code",
      "metadata": {
        "id": "NVubTpC4PhlM"
      },
      "source": [
        "X_test = tokenizer.texts_to_sequences(X_test)"
      ],
      "execution_count": 69,
      "outputs": []
    },
    {
      "cell_type": "code",
      "metadata": {
        "id": "bd-ctqG7PqD1"
      },
      "source": [
        "y_test = np.array(test_data['label'])"
      ],
      "execution_count": 70,
      "outputs": []
    },
    {
      "cell_type": "code",
      "metadata": {
        "id": "3EQ2qIMLPsAi"
      },
      "source": [
        "drop_test = [index for index, sentence in enumerate(X_test) if len(sentence) < 1]"
      ],
      "execution_count": 71,
      "outputs": []
    },
    {
      "cell_type": "code",
      "metadata": {
        "id": "74qFgyCWPxpf"
      },
      "source": [
        "X_test = pad_sequences(X_test, maxlen = max_len)"
      ],
      "execution_count": 72,
      "outputs": []
    },
    {
      "cell_type": "code",
      "metadata": {
        "id": "U9jF5Rl1QJ_2"
      },
      "source": [
        "loaded_model = load_model('best_model.h5')"
      ],
      "execution_count": 73,
      "outputs": []
    },
    {
      "cell_type": "code",
      "metadata": {
        "id": "fIXSP-8qQRET"
      },
      "source": [
        "y_1=encoder.transform(y_test)\n",
        "y_test=y_1"
      ],
      "execution_count": 74,
      "outputs": []
    },
    {
      "cell_type": "code",
      "metadata": {
        "colab": {
          "base_uri": "https://localhost:8080/"
        },
        "id": "uFHF7T-pZ9Q-",
        "outputId": "0c61c2ad-8f72-42df-c08f-b8f24d1dc58a"
      },
      "source": [
        "y_test"
      ],
      "execution_count": 75,
      "outputs": [
        {
          "output_type": "execute_result",
          "data": {
            "text/plain": [
              "array([2, 2, 2, 2, 2, 2, 2, 2, 2, 2, 2, 2, 2, 2, 0, 0, 0, 0, 0, 0, 0, 0,\n",
              "       0, 0, 0, 0, 0, 0, 0, 1, 1, 1, 1, 1, 1, 1, 1, 1, 1, 1, 1, 1, 1, 1,\n",
              "       2])"
            ]
          },
          "metadata": {},
          "execution_count": 75
        }
      ]
    },
    {
      "cell_type": "code",
      "metadata": {
        "colab": {
          "base_uri": "https://localhost:8080/"
        },
        "id": "NtIRFTowP7Fp",
        "outputId": "f1df22fe-1ff6-49a0-f24a-1d9d1a15f095"
      },
      "source": [
        "print(\"\\n 테스트 정확도: %.4f\" % (loaded_model.evaluate(X_test, y_test)[1]))"
      ],
      "execution_count": 76,
      "outputs": [
        {
          "output_type": "stream",
          "name": "stdout",
          "text": [
            "2/2 [==============================] - 0s 35ms/step - loss: 0.3805 - acc: 0.8889\n",
            "\n",
            " 테스트 정확도: 0.8889\n"
          ]
        }
      ]
    },
    {
      "cell_type": "code",
      "metadata": {
        "id": "5Nqw36SbbZkV"
      },
      "source": [
        ""
      ],
      "execution_count": null,
      "outputs": []
    },
    {
      "cell_type": "code",
      "metadata": {
        "colab": {
          "base_uri": "https://localhost:8080/"
        },
        "id": "BeREASiFQooP",
        "outputId": "6c4b0d9b-b2c8-40be-e1af-80aa8a89ad38"
      },
      "source": [
        "loaded_model.predict(X_test)"
      ],
      "execution_count": 77,
      "outputs": [
        {
          "output_type": "execute_result",
          "data": {
            "text/plain": [
              "array([[6.5623310e-05, 1.3961374e-04, 9.9979478e-01],\n",
              "       [5.2310086e-05, 1.3957925e-04, 9.9980813e-01],\n",
              "       [2.8021293e-04, 4.8295216e-04, 9.9923682e-01],\n",
              "       [3.6178043e-03, 4.6407033e-02, 9.4997513e-01],\n",
              "       [1.6205700e-05, 3.9102189e-05, 9.9994469e-01],\n",
              "       [1.0840968e-04, 1.9041503e-04, 9.9970120e-01],\n",
              "       [3.5190939e-03, 1.4737115e-02, 9.8174381e-01],\n",
              "       [2.6722186e-05, 1.2731772e-04, 9.9984598e-01],\n",
              "       [3.1038169e-05, 6.9887057e-05, 9.9989903e-01],\n",
              "       [2.8011918e-06, 3.3362512e-06, 9.9999392e-01],\n",
              "       [1.2850665e-04, 1.8913337e-04, 9.9968243e-01],\n",
              "       [2.7916292e-05, 4.3215754e-05, 9.9992883e-01],\n",
              "       [1.0844014e-06, 1.3846155e-06, 9.9999750e-01],\n",
              "       [5.3421750e-06, 7.4584977e-06, 9.9998724e-01],\n",
              "       [9.9991703e-01, 3.9737966e-05, 4.3225711e-05],\n",
              "       [9.9988806e-01, 4.5410310e-05, 6.6487264e-05],\n",
              "       [1.5029377e-01, 8.4674621e-01, 2.9600984e-03],\n",
              "       [9.9988592e-01, 3.6045702e-05, 7.8020450e-05],\n",
              "       [9.8953044e-01, 2.7113999e-03, 7.7580293e-03],\n",
              "       [7.8539246e-01, 1.5391216e-01, 6.0695346e-02],\n",
              "       [9.4166458e-01, 5.5583742e-02, 2.7517108e-03],\n",
              "       [9.9993694e-01, 2.5417674e-05, 3.7635240e-05],\n",
              "       [9.9995399e-01, 1.6057531e-05, 2.9900450e-05],\n",
              "       [9.9987578e-01, 4.8517668e-05, 7.5728800e-05],\n",
              "       [9.9991953e-01, 3.1478659e-05, 4.8986782e-05],\n",
              "       [9.9988997e-01, 6.2445011e-05, 4.7589820e-05],\n",
              "       [2.8150767e-02, 9.3184048e-01, 4.0008735e-02],\n",
              "       [9.9905819e-01, 4.3765595e-04, 5.0410681e-04],\n",
              "       [9.9993169e-01, 2.1334854e-05, 4.6969210e-05],\n",
              "       [5.7300120e-03, 9.9319601e-01, 1.0740208e-03],\n",
              "       [2.9892882e-03, 9.9653828e-01, 4.7240226e-04],\n",
              "       [6.2117265e-03, 9.9023902e-01, 3.5493050e-03],\n",
              "       [2.6162158e-04, 9.9969864e-01, 3.9852275e-05],\n",
              "       [5.7936436e-03, 2.1060550e-01, 7.8360081e-01],\n",
              "       [2.5286234e-04, 9.9970812e-01, 3.9010487e-05],\n",
              "       [2.0247675e-02, 3.7315419e-01, 6.0659814e-01],\n",
              "       [2.3472251e-04, 9.9973172e-01, 3.3486209e-05],\n",
              "       [4.8715161e-04, 9.9937868e-01, 1.3419514e-04],\n",
              "       [5.5043153e-03, 9.9382025e-01, 6.7538564e-04],\n",
              "       [4.2566638e-03, 9.9551445e-01, 2.2889527e-04],\n",
              "       [2.3667589e-01, 7.4747014e-01, 1.5853994e-02],\n",
              "       [9.9943310e-01, 2.2564945e-04, 3.4124032e-04],\n",
              "       [4.5943656e-03, 9.9519688e-01, 2.0878619e-04],\n",
              "       [1.2140443e-03, 9.9871230e-01, 7.3698306e-05],\n",
              "       [4.8321135e-06, 4.6088217e-06, 9.9999058e-01]], dtype=float32)"
            ]
          },
          "metadata": {},
          "execution_count": 77
        }
      ]
    }
  ]
}