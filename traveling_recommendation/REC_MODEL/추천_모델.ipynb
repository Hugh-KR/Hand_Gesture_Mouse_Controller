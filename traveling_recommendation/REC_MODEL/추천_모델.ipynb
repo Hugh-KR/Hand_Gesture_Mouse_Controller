{
  "nbformat": 4,
  "nbformat_minor": 0,
  "metadata": {
    "colab": {
      "name": "추천_모델_최종본(21.09.07).ipynb",
      "provenance": [],
      "collapsed_sections": []
    },
    "kernelspec": {
      "name": "python3",
      "display_name": "Python 3"
    },
    "language_info": {
      "name": "python"
    }
  },
  "cells": [
    {
      "cell_type": "code",
      "metadata": {
        "id": "reIta93jQaNl"
      },
      "source": [
        "import matplotlib.pyplot as plt\n",
        "import pandas as pd\n",
        "\n",
        "import tensorflow as tf\n",
        "from tensorflow.keras import layers, models"
      ],
      "execution_count": 1,
      "outputs": []
    },
    {
      "cell_type": "code",
      "metadata": {
        "id": "J5LRYmxVHRLI"
      },
      "source": [
        "data = pd.read_csv('/content/추천 학습 모델 최종 dataset(21.09.07).csv')"
      ],
      "execution_count": 2,
      "outputs": []
    },
    {
      "cell_type": "code",
      "metadata": {
        "id": "_faSl_OhuMtf"
      },
      "source": [
        "# 데이터 복사\n",
        "tmp = data.copy()"
      ],
      "execution_count": 3,
      "outputs": []
    },
    {
      "cell_type": "code",
      "metadata": {
        "colab": {
          "base_uri": "https://localhost:8080/",
          "height": 204
        },
        "id": "6xOX5YpHNGrj",
        "outputId": "6d363afd-7990-4f5f-9d32-dc6424b3009a"
      },
      "source": [
        "tmp.head()"
      ],
      "execution_count": 4,
      "outputs": [
        {
          "output_type": "execute_result",
          "data": {
            "text/html": [
              "<div>\n",
              "<style scoped>\n",
              "    .dataframe tbody tr th:only-of-type {\n",
              "        vertical-align: middle;\n",
              "    }\n",
              "\n",
              "    .dataframe tbody tr th {\n",
              "        vertical-align: top;\n",
              "    }\n",
              "\n",
              "    .dataframe thead th {\n",
              "        text-align: right;\n",
              "    }\n",
              "</style>\n",
              "<table border=\"1\" class=\"dataframe\">\n",
              "  <thead>\n",
              "    <tr style=\"text-align: right;\">\n",
              "      <th></th>\n",
              "      <th>Index</th>\n",
              "      <th>1</th>\n",
              "      <th>2</th>\n",
              "      <th>3</th>\n",
              "      <th>4</th>\n",
              "      <th>5</th>\n",
              "      <th>6</th>\n",
              "      <th>7</th>\n",
              "      <th>8</th>\n",
              "      <th>9</th>\n",
              "      <th>10</th>\n",
              "      <th>11</th>\n",
              "      <th>12</th>\n",
              "      <th>13</th>\n",
              "      <th>14</th>\n",
              "      <th>15</th>\n",
              "      <th>16</th>\n",
              "      <th>17</th>\n",
              "      <th>18</th>\n",
              "      <th>feeling</th>\n",
              "      <th>place</th>\n",
              "      <th>Unnamed: 21</th>\n",
              "      <th>Unnamed: 22</th>\n",
              "      <th>Unnamed: 23</th>\n",
              "      <th>von</th>\n",
              "    </tr>\n",
              "  </thead>\n",
              "  <tbody>\n",
              "    <tr>\n",
              "      <th>0</th>\n",
              "      <td>1.0</td>\n",
              "      <td>4.0</td>\n",
              "      <td>2.0</td>\n",
              "      <td>2.0</td>\n",
              "      <td>3.0</td>\n",
              "      <td>4.0</td>\n",
              "      <td>4.0</td>\n",
              "      <td>3.0</td>\n",
              "      <td>4.0</td>\n",
              "      <td>4.0</td>\n",
              "      <td>3.0</td>\n",
              "      <td>4.0</td>\n",
              "      <td>3.0</td>\n",
              "      <td>4.0</td>\n",
              "      <td>4.0</td>\n",
              "      <td>2.0</td>\n",
              "      <td>4.0</td>\n",
              "      <td>4.0</td>\n",
              "      <td>4.0</td>\n",
              "      <td>happy</td>\n",
              "      <td>성산일출봉</td>\n",
              "      <td>0.000005</td>\n",
              "      <td>0.000005</td>\n",
              "      <td>0.999</td>\n",
              "      <td>0.0</td>\n",
              "    </tr>\n",
              "    <tr>\n",
              "      <th>1</th>\n",
              "      <td>2.0</td>\n",
              "      <td>4.0</td>\n",
              "      <td>2.0</td>\n",
              "      <td>2.0</td>\n",
              "      <td>3.0</td>\n",
              "      <td>4.0</td>\n",
              "      <td>4.0</td>\n",
              "      <td>3.0</td>\n",
              "      <td>4.0</td>\n",
              "      <td>4.0</td>\n",
              "      <td>3.0</td>\n",
              "      <td>4.0</td>\n",
              "      <td>3.0</td>\n",
              "      <td>4.0</td>\n",
              "      <td>4.0</td>\n",
              "      <td>2.0</td>\n",
              "      <td>4.0</td>\n",
              "      <td>4.0</td>\n",
              "      <td>4.0</td>\n",
              "      <td>happy</td>\n",
              "      <td>사려니숲길</td>\n",
              "      <td>0.000066</td>\n",
              "      <td>0.000139</td>\n",
              "      <td>0.997</td>\n",
              "      <td>0.0</td>\n",
              "    </tr>\n",
              "    <tr>\n",
              "      <th>2</th>\n",
              "      <td>3.0</td>\n",
              "      <td>4.0</td>\n",
              "      <td>2.0</td>\n",
              "      <td>2.0</td>\n",
              "      <td>3.0</td>\n",
              "      <td>4.0</td>\n",
              "      <td>4.0</td>\n",
              "      <td>3.0</td>\n",
              "      <td>4.0</td>\n",
              "      <td>4.0</td>\n",
              "      <td>3.0</td>\n",
              "      <td>4.0</td>\n",
              "      <td>3.0</td>\n",
              "      <td>4.0</td>\n",
              "      <td>4.0</td>\n",
              "      <td>2.0</td>\n",
              "      <td>4.0</td>\n",
              "      <td>4.0</td>\n",
              "      <td>4.0</td>\n",
              "      <td>happy</td>\n",
              "      <td>협재 해수욕장</td>\n",
              "      <td>0.000052</td>\n",
              "      <td>0.000139</td>\n",
              "      <td>0.998</td>\n",
              "      <td>0.0</td>\n",
              "    </tr>\n",
              "    <tr>\n",
              "      <th>3</th>\n",
              "      <td>4.0</td>\n",
              "      <td>4.0</td>\n",
              "      <td>2.0</td>\n",
              "      <td>2.0</td>\n",
              "      <td>3.0</td>\n",
              "      <td>4.0</td>\n",
              "      <td>4.0</td>\n",
              "      <td>3.0</td>\n",
              "      <td>4.0</td>\n",
              "      <td>4.0</td>\n",
              "      <td>3.0</td>\n",
              "      <td>4.0</td>\n",
              "      <td>3.0</td>\n",
              "      <td>4.0</td>\n",
              "      <td>4.0</td>\n",
              "      <td>2.0</td>\n",
              "      <td>4.0</td>\n",
              "      <td>4.0</td>\n",
              "      <td>4.0</td>\n",
              "      <td>happy</td>\n",
              "      <td>월정리 해변</td>\n",
              "      <td>0.000280</td>\n",
              "      <td>0.000482</td>\n",
              "      <td>0.992</td>\n",
              "      <td>0.0</td>\n",
              "    </tr>\n",
              "    <tr>\n",
              "      <th>4</th>\n",
              "      <td>5.0</td>\n",
              "      <td>4.0</td>\n",
              "      <td>2.0</td>\n",
              "      <td>2.0</td>\n",
              "      <td>3.0</td>\n",
              "      <td>4.0</td>\n",
              "      <td>4.0</td>\n",
              "      <td>3.0</td>\n",
              "      <td>4.0</td>\n",
              "      <td>4.0</td>\n",
              "      <td>3.0</td>\n",
              "      <td>4.0</td>\n",
              "      <td>3.0</td>\n",
              "      <td>4.0</td>\n",
              "      <td>4.0</td>\n",
              "      <td>2.0</td>\n",
              "      <td>4.0</td>\n",
              "      <td>4.0</td>\n",
              "      <td>4.0</td>\n",
              "      <td>happy</td>\n",
              "      <td>함덕 해수욕장</td>\n",
              "      <td>0.003610</td>\n",
              "      <td>0.046400</td>\n",
              "      <td>0.949</td>\n",
              "      <td>0.0</td>\n",
              "    </tr>\n",
              "  </tbody>\n",
              "</table>\n",
              "</div>"
            ],
            "text/plain": [
              "   Index    1    2    3  ...  Unnamed: 21  Unnamed: 22  Unnamed: 23  von\n",
              "0    1.0  4.0  2.0  2.0  ...     0.000005     0.000005        0.999  0.0\n",
              "1    2.0  4.0  2.0  2.0  ...     0.000066     0.000139        0.997  0.0\n",
              "2    3.0  4.0  2.0  2.0  ...     0.000052     0.000139        0.998  0.0\n",
              "3    4.0  4.0  2.0  2.0  ...     0.000280     0.000482        0.992  0.0\n",
              "4    5.0  4.0  2.0  2.0  ...     0.003610     0.046400        0.949  0.0\n",
              "\n",
              "[5 rows x 25 columns]"
            ]
          },
          "metadata": {},
          "execution_count": 4
        }
      ]
    },
    {
      "cell_type": "code",
      "metadata": {
        "id": "QTnTOoMPe1E-"
      },
      "source": [
        "# 데이터 전처리\n",
        "feeling = tmp['feeling'].unique()\n",
        "place = data['place'].unique()\n",
        "von = data['von'].unique()"
      ],
      "execution_count": 5,
      "outputs": []
    },
    {
      "cell_type": "code",
      "metadata": {
        "colab": {
          "base_uri": "https://localhost:8080/"
        },
        "id": "XHZbc15uux0O",
        "outputId": "f3b5f65f-68e7-4bbc-e4d7-65582c8a190e"
      },
      "source": [
        "print(feeling)\n",
        "print(place)\n",
        "print(von)"
      ],
      "execution_count": 6,
      "outputs": [
        {
          "output_type": "stream",
          "name": "stdout",
          "text": [
            "['happy' 'angry' 'sad' 'neutral' nan]\n",
            "[' 성산일출봉' ' 사려니숲길' ' 협재 해수욕장' ' 월정리 해변' ' 함덕 해수욕장' ' 산굼부리' ' 섭지코지'\n",
            " ' 한라산국립공원' ' 비자림' ' 천지연폭포' ' 용머리해안' ' 용두암' ' 마라도' ' 우도' ' 가파도' ' 제주돌문화공원'\n",
            " ' 삼성혈' ' 추사관' ' 제주목관아' ' 선운정사' ' 김영갑갤러리두모악' ' 이중섭거리' ' 관덕정' ' 너븐숭이4.3기념관'\n",
            " ' 제주민속촌' ' 항파두리항몽유적지' ' 성읍마을' ' 제주세계자연유산센터' ' 제주민속자연사박물관' ' 제주4.3평화공원'\n",
            " ' 아침미소목장' ' 제주레일바이크' ' 서귀포잠수함' ' 아날로그감귤밭' ' 피시픽리솜 요트투어' ' 제주레포츠랜드'\n",
            " ' 월정리 카약 체험' ' 제주김녕미로공원' ' 에코랜드' ' 테디베어박물관' ' 아쿠아플라넷' ' 수월봉 지질트레일'\n",
            " ' 오설록티뮤지엄' ' 제주유리의성' ' 제주더마파크' nan]\n",
            "[ 0.  1. nan]\n"
          ]
        }
      ]
    },
    {
      "cell_type": "code",
      "metadata": {
        "colab": {
          "base_uri": "https://localhost:8080/"
        },
        "id": "WGhjq6GzFpYq",
        "outputId": "3ba08219-3a9c-4d02-bad4-c1213f2fb3ac"
      },
      "source": [
        "print(len(place))"
      ],
      "execution_count": 7,
      "outputs": [
        {
          "output_type": "stream",
          "name": "stdout",
          "text": [
            "46\n"
          ]
        }
      ]
    },
    {
      "cell_type": "code",
      "metadata": {
        "colab": {
          "base_uri": "https://localhost:8080/"
        },
        "id": "E_M0agl9HTnT",
        "outputId": "07921564-2876-4b11-c0d4-eb4c4f2b581c"
      },
      "source": [
        "print(tmp.isnull())"
      ],
      "execution_count": 8,
      "outputs": [
        {
          "output_type": "stream",
          "name": "stdout",
          "text": [
            "      Index      1      2      3  ...  Unnamed: 21  Unnamed: 22  Unnamed: 23    von\n",
            "0     False  False  False  False  ...        False        False        False  False\n",
            "1     False  False  False  False  ...        False        False        False  False\n",
            "2     False  False  False  False  ...        False        False        False  False\n",
            "3     False  False  False  False  ...        False        False        False  False\n",
            "4     False  False  False  False  ...        False        False        False  False\n",
            "...     ...    ...    ...    ...  ...          ...          ...          ...    ...\n",
            "4136  False  False  False  False  ...        False        False        False  False\n",
            "4137  False  False  False  False  ...        False        False        False  False\n",
            "4138  False  False  False  False  ...        False        False        False  False\n",
            "4139  False  False  False  False  ...        False        False        False  False\n",
            "4140   True   True   True   True  ...         True         True         True   True\n",
            "\n",
            "[4141 rows x 25 columns]\n"
          ]
        }
      ]
    },
    {
      "cell_type": "code",
      "metadata": {
        "id": "FKyO_kjwLMj3"
      },
      "source": [
        "tmp=tmp.dropna()"
      ],
      "execution_count": 9,
      "outputs": []
    },
    {
      "cell_type": "code",
      "metadata": {
        "colab": {
          "base_uri": "https://localhost:8080/"
        },
        "id": "0M6EiqOcLfa9",
        "outputId": "d56ef145-aaa1-4894-ac39-0f383b454a2b"
      },
      "source": [
        "print(tmp.isnull())"
      ],
      "execution_count": 10,
      "outputs": [
        {
          "output_type": "stream",
          "name": "stdout",
          "text": [
            "      Index      1      2      3  ...  Unnamed: 21  Unnamed: 22  Unnamed: 23    von\n",
            "0     False  False  False  False  ...        False        False        False  False\n",
            "1     False  False  False  False  ...        False        False        False  False\n",
            "2     False  False  False  False  ...        False        False        False  False\n",
            "3     False  False  False  False  ...        False        False        False  False\n",
            "4     False  False  False  False  ...        False        False        False  False\n",
            "...     ...    ...    ...    ...  ...          ...          ...          ...    ...\n",
            "4135  False  False  False  False  ...        False        False        False  False\n",
            "4136  False  False  False  False  ...        False        False        False  False\n",
            "4137  False  False  False  False  ...        False        False        False  False\n",
            "4138  False  False  False  False  ...        False        False        False  False\n",
            "4139  False  False  False  False  ...        False        False        False  False\n",
            "\n",
            "[4140 rows x 25 columns]\n"
          ]
        }
      ]
    },
    {
      "cell_type": "code",
      "metadata": {
        "id": "KzbmQwHqLiib"
      },
      "source": [
        "feeling = tmp['feeling'].unique()\n",
        "place = tmp['place'].unique()\n",
        "von = tmp['von'].unique()\n"
      ],
      "execution_count": 13,
      "outputs": []
    },
    {
      "cell_type": "code",
      "metadata": {
        "colab": {
          "base_uri": "https://localhost:8080/"
        },
        "id": "tvW4xxRCH0uy",
        "outputId": "c551e983-b30d-44f3-bda0-bbed9d18bba5"
      },
      "source": [
        "print(feeling)\n",
        "print(place)\n",
        "print(von)"
      ],
      "execution_count": 14,
      "outputs": [
        {
          "output_type": "stream",
          "name": "stdout",
          "text": [
            "['happy' 'angry' 'sad' 'neutral']\n",
            "[' 성산일출봉' ' 사려니숲길' ' 협재 해수욕장' ' 월정리 해변' ' 함덕 해수욕장' ' 산굼부리' ' 섭지코지'\n",
            " ' 한라산국립공원' ' 비자림' ' 천지연폭포' ' 용머리해안' ' 용두암' ' 마라도' ' 우도' ' 가파도' ' 제주돌문화공원'\n",
            " ' 삼성혈' ' 추사관' ' 제주목관아' ' 선운정사' ' 김영갑갤러리두모악' ' 이중섭거리' ' 관덕정' ' 너븐숭이4.3기념관'\n",
            " ' 제주민속촌' ' 항파두리항몽유적지' ' 성읍마을' ' 제주세계자연유산센터' ' 제주민속자연사박물관' ' 제주4.3평화공원'\n",
            " ' 아침미소목장' ' 제주레일바이크' ' 서귀포잠수함' ' 아날로그감귤밭' ' 피시픽리솜 요트투어' ' 제주레포츠랜드'\n",
            " ' 월정리 카약 체험' ' 제주김녕미로공원' ' 에코랜드' ' 테디베어박물관' ' 아쿠아플라넷' ' 수월봉 지질트레일'\n",
            " ' 오설록티뮤지엄' ' 제주유리의성' ' 제주더마파크']\n",
            "[0. 1.]\n"
          ]
        }
      ]
    },
    {
      "cell_type": "code",
      "metadata": {
        "colab": {
          "base_uri": "https://localhost:8080/"
        },
        "id": "88xXxi35H0j5",
        "outputId": "5e433694-f623-4715-84ed-ec98e3ac6489"
      },
      "source": [
        "print(tmp.isnull())"
      ],
      "execution_count": 15,
      "outputs": [
        {
          "output_type": "stream",
          "name": "stdout",
          "text": [
            "      Index      1      2      3  ...  Unnamed: 21  Unnamed: 22  Unnamed: 23    von\n",
            "0     False  False  False  False  ...        False        False        False  False\n",
            "1     False  False  False  False  ...        False        False        False  False\n",
            "2     False  False  False  False  ...        False        False        False  False\n",
            "3     False  False  False  False  ...        False        False        False  False\n",
            "4     False  False  False  False  ...        False        False        False  False\n",
            "...     ...    ...    ...    ...  ...          ...          ...          ...    ...\n",
            "4135  False  False  False  False  ...        False        False        False  False\n",
            "4136  False  False  False  False  ...        False        False        False  False\n",
            "4137  False  False  False  False  ...        False        False        False  False\n",
            "4138  False  False  False  False  ...        False        False        False  False\n",
            "4139  False  False  False  False  ...        False        False        False  False\n",
            "\n",
            "[4140 rows x 25 columns]\n"
          ]
        }
      ]
    },
    {
      "cell_type": "code",
      "metadata": {
        "id": "oF5tQHtTQXq0"
      },
      "source": [
        "tmp=tmp.drop(columns=['place'])"
      ],
      "execution_count": 16,
      "outputs": []
    },
    {
      "cell_type": "code",
      "metadata": {
        "colab": {
          "base_uri": "https://localhost:8080/",
          "height": 204
        },
        "id": "dtvfVI1rQll2",
        "outputId": "9728c892-afff-415e-bfa4-02952db414c1"
      },
      "source": [
        "tmp.head()"
      ],
      "execution_count": 17,
      "outputs": [
        {
          "output_type": "execute_result",
          "data": {
            "text/html": [
              "<div>\n",
              "<style scoped>\n",
              "    .dataframe tbody tr th:only-of-type {\n",
              "        vertical-align: middle;\n",
              "    }\n",
              "\n",
              "    .dataframe tbody tr th {\n",
              "        vertical-align: top;\n",
              "    }\n",
              "\n",
              "    .dataframe thead th {\n",
              "        text-align: right;\n",
              "    }\n",
              "</style>\n",
              "<table border=\"1\" class=\"dataframe\">\n",
              "  <thead>\n",
              "    <tr style=\"text-align: right;\">\n",
              "      <th></th>\n",
              "      <th>Index</th>\n",
              "      <th>1</th>\n",
              "      <th>2</th>\n",
              "      <th>3</th>\n",
              "      <th>4</th>\n",
              "      <th>5</th>\n",
              "      <th>6</th>\n",
              "      <th>7</th>\n",
              "      <th>8</th>\n",
              "      <th>9</th>\n",
              "      <th>10</th>\n",
              "      <th>11</th>\n",
              "      <th>12</th>\n",
              "      <th>13</th>\n",
              "      <th>14</th>\n",
              "      <th>15</th>\n",
              "      <th>16</th>\n",
              "      <th>17</th>\n",
              "      <th>18</th>\n",
              "      <th>feeling</th>\n",
              "      <th>Unnamed: 21</th>\n",
              "      <th>Unnamed: 22</th>\n",
              "      <th>Unnamed: 23</th>\n",
              "      <th>von</th>\n",
              "    </tr>\n",
              "  </thead>\n",
              "  <tbody>\n",
              "    <tr>\n",
              "      <th>0</th>\n",
              "      <td>1.0</td>\n",
              "      <td>4.0</td>\n",
              "      <td>2.0</td>\n",
              "      <td>2.0</td>\n",
              "      <td>3.0</td>\n",
              "      <td>4.0</td>\n",
              "      <td>4.0</td>\n",
              "      <td>3.0</td>\n",
              "      <td>4.0</td>\n",
              "      <td>4.0</td>\n",
              "      <td>3.0</td>\n",
              "      <td>4.0</td>\n",
              "      <td>3.0</td>\n",
              "      <td>4.0</td>\n",
              "      <td>4.0</td>\n",
              "      <td>2.0</td>\n",
              "      <td>4.0</td>\n",
              "      <td>4.0</td>\n",
              "      <td>4.0</td>\n",
              "      <td>happy</td>\n",
              "      <td>0.000005</td>\n",
              "      <td>0.000005</td>\n",
              "      <td>0.999</td>\n",
              "      <td>0.0</td>\n",
              "    </tr>\n",
              "    <tr>\n",
              "      <th>1</th>\n",
              "      <td>2.0</td>\n",
              "      <td>4.0</td>\n",
              "      <td>2.0</td>\n",
              "      <td>2.0</td>\n",
              "      <td>3.0</td>\n",
              "      <td>4.0</td>\n",
              "      <td>4.0</td>\n",
              "      <td>3.0</td>\n",
              "      <td>4.0</td>\n",
              "      <td>4.0</td>\n",
              "      <td>3.0</td>\n",
              "      <td>4.0</td>\n",
              "      <td>3.0</td>\n",
              "      <td>4.0</td>\n",
              "      <td>4.0</td>\n",
              "      <td>2.0</td>\n",
              "      <td>4.0</td>\n",
              "      <td>4.0</td>\n",
              "      <td>4.0</td>\n",
              "      <td>happy</td>\n",
              "      <td>0.000066</td>\n",
              "      <td>0.000139</td>\n",
              "      <td>0.997</td>\n",
              "      <td>0.0</td>\n",
              "    </tr>\n",
              "    <tr>\n",
              "      <th>2</th>\n",
              "      <td>3.0</td>\n",
              "      <td>4.0</td>\n",
              "      <td>2.0</td>\n",
              "      <td>2.0</td>\n",
              "      <td>3.0</td>\n",
              "      <td>4.0</td>\n",
              "      <td>4.0</td>\n",
              "      <td>3.0</td>\n",
              "      <td>4.0</td>\n",
              "      <td>4.0</td>\n",
              "      <td>3.0</td>\n",
              "      <td>4.0</td>\n",
              "      <td>3.0</td>\n",
              "      <td>4.0</td>\n",
              "      <td>4.0</td>\n",
              "      <td>2.0</td>\n",
              "      <td>4.0</td>\n",
              "      <td>4.0</td>\n",
              "      <td>4.0</td>\n",
              "      <td>happy</td>\n",
              "      <td>0.000052</td>\n",
              "      <td>0.000139</td>\n",
              "      <td>0.998</td>\n",
              "      <td>0.0</td>\n",
              "    </tr>\n",
              "    <tr>\n",
              "      <th>3</th>\n",
              "      <td>4.0</td>\n",
              "      <td>4.0</td>\n",
              "      <td>2.0</td>\n",
              "      <td>2.0</td>\n",
              "      <td>3.0</td>\n",
              "      <td>4.0</td>\n",
              "      <td>4.0</td>\n",
              "      <td>3.0</td>\n",
              "      <td>4.0</td>\n",
              "      <td>4.0</td>\n",
              "      <td>3.0</td>\n",
              "      <td>4.0</td>\n",
              "      <td>3.0</td>\n",
              "      <td>4.0</td>\n",
              "      <td>4.0</td>\n",
              "      <td>2.0</td>\n",
              "      <td>4.0</td>\n",
              "      <td>4.0</td>\n",
              "      <td>4.0</td>\n",
              "      <td>happy</td>\n",
              "      <td>0.000280</td>\n",
              "      <td>0.000482</td>\n",
              "      <td>0.992</td>\n",
              "      <td>0.0</td>\n",
              "    </tr>\n",
              "    <tr>\n",
              "      <th>4</th>\n",
              "      <td>5.0</td>\n",
              "      <td>4.0</td>\n",
              "      <td>2.0</td>\n",
              "      <td>2.0</td>\n",
              "      <td>3.0</td>\n",
              "      <td>4.0</td>\n",
              "      <td>4.0</td>\n",
              "      <td>3.0</td>\n",
              "      <td>4.0</td>\n",
              "      <td>4.0</td>\n",
              "      <td>3.0</td>\n",
              "      <td>4.0</td>\n",
              "      <td>3.0</td>\n",
              "      <td>4.0</td>\n",
              "      <td>4.0</td>\n",
              "      <td>2.0</td>\n",
              "      <td>4.0</td>\n",
              "      <td>4.0</td>\n",
              "      <td>4.0</td>\n",
              "      <td>happy</td>\n",
              "      <td>0.003610</td>\n",
              "      <td>0.046400</td>\n",
              "      <td>0.949</td>\n",
              "      <td>0.0</td>\n",
              "    </tr>\n",
              "  </tbody>\n",
              "</table>\n",
              "</div>"
            ],
            "text/plain": [
              "   Index    1    2    3  ...  Unnamed: 21  Unnamed: 22  Unnamed: 23  von\n",
              "0    1.0  4.0  2.0  2.0  ...     0.000005     0.000005        0.999  0.0\n",
              "1    2.0  4.0  2.0  2.0  ...     0.000066     0.000139        0.997  0.0\n",
              "2    3.0  4.0  2.0  2.0  ...     0.000052     0.000139        0.998  0.0\n",
              "3    4.0  4.0  2.0  2.0  ...     0.000280     0.000482        0.992  0.0\n",
              "4    5.0  4.0  2.0  2.0  ...     0.003610     0.046400        0.949  0.0\n",
              "\n",
              "[5 rows x 24 columns]"
            ]
          },
          "metadata": {},
          "execution_count": 17
        }
      ]
    },
    {
      "cell_type": "code",
      "metadata": {
        "id": "zhRCIopNH0ZU"
      },
      "source": [
        "from sklearn.preprocessing import LabelEncoder\n",
        "encoder=LabelEncoder()\n",
        "x=encoder.fit_transform(tmp['feeling'])\n",
        "tmp['feeling']=x"
      ],
      "execution_count": 18,
      "outputs": []
    },
    {
      "cell_type": "code",
      "metadata": {
        "colab": {
          "base_uri": "https://localhost:8080/",
          "height": 204
        },
        "id": "8r45qQk9H0QT",
        "outputId": "9f0e7d4b-64c6-489e-b4f9-11e94914ff3c"
      },
      "source": [
        "tmp.head()"
      ],
      "execution_count": 19,
      "outputs": [
        {
          "output_type": "execute_result",
          "data": {
            "text/html": [
              "<div>\n",
              "<style scoped>\n",
              "    .dataframe tbody tr th:only-of-type {\n",
              "        vertical-align: middle;\n",
              "    }\n",
              "\n",
              "    .dataframe tbody tr th {\n",
              "        vertical-align: top;\n",
              "    }\n",
              "\n",
              "    .dataframe thead th {\n",
              "        text-align: right;\n",
              "    }\n",
              "</style>\n",
              "<table border=\"1\" class=\"dataframe\">\n",
              "  <thead>\n",
              "    <tr style=\"text-align: right;\">\n",
              "      <th></th>\n",
              "      <th>Index</th>\n",
              "      <th>1</th>\n",
              "      <th>2</th>\n",
              "      <th>3</th>\n",
              "      <th>4</th>\n",
              "      <th>5</th>\n",
              "      <th>6</th>\n",
              "      <th>7</th>\n",
              "      <th>8</th>\n",
              "      <th>9</th>\n",
              "      <th>10</th>\n",
              "      <th>11</th>\n",
              "      <th>12</th>\n",
              "      <th>13</th>\n",
              "      <th>14</th>\n",
              "      <th>15</th>\n",
              "      <th>16</th>\n",
              "      <th>17</th>\n",
              "      <th>18</th>\n",
              "      <th>feeling</th>\n",
              "      <th>Unnamed: 21</th>\n",
              "      <th>Unnamed: 22</th>\n",
              "      <th>Unnamed: 23</th>\n",
              "      <th>von</th>\n",
              "    </tr>\n",
              "  </thead>\n",
              "  <tbody>\n",
              "    <tr>\n",
              "      <th>0</th>\n",
              "      <td>1.0</td>\n",
              "      <td>4.0</td>\n",
              "      <td>2.0</td>\n",
              "      <td>2.0</td>\n",
              "      <td>3.0</td>\n",
              "      <td>4.0</td>\n",
              "      <td>4.0</td>\n",
              "      <td>3.0</td>\n",
              "      <td>4.0</td>\n",
              "      <td>4.0</td>\n",
              "      <td>3.0</td>\n",
              "      <td>4.0</td>\n",
              "      <td>3.0</td>\n",
              "      <td>4.0</td>\n",
              "      <td>4.0</td>\n",
              "      <td>2.0</td>\n",
              "      <td>4.0</td>\n",
              "      <td>4.0</td>\n",
              "      <td>4.0</td>\n",
              "      <td>1</td>\n",
              "      <td>0.000005</td>\n",
              "      <td>0.000005</td>\n",
              "      <td>0.999</td>\n",
              "      <td>0.0</td>\n",
              "    </tr>\n",
              "    <tr>\n",
              "      <th>1</th>\n",
              "      <td>2.0</td>\n",
              "      <td>4.0</td>\n",
              "      <td>2.0</td>\n",
              "      <td>2.0</td>\n",
              "      <td>3.0</td>\n",
              "      <td>4.0</td>\n",
              "      <td>4.0</td>\n",
              "      <td>3.0</td>\n",
              "      <td>4.0</td>\n",
              "      <td>4.0</td>\n",
              "      <td>3.0</td>\n",
              "      <td>4.0</td>\n",
              "      <td>3.0</td>\n",
              "      <td>4.0</td>\n",
              "      <td>4.0</td>\n",
              "      <td>2.0</td>\n",
              "      <td>4.0</td>\n",
              "      <td>4.0</td>\n",
              "      <td>4.0</td>\n",
              "      <td>1</td>\n",
              "      <td>0.000066</td>\n",
              "      <td>0.000139</td>\n",
              "      <td>0.997</td>\n",
              "      <td>0.0</td>\n",
              "    </tr>\n",
              "    <tr>\n",
              "      <th>2</th>\n",
              "      <td>3.0</td>\n",
              "      <td>4.0</td>\n",
              "      <td>2.0</td>\n",
              "      <td>2.0</td>\n",
              "      <td>3.0</td>\n",
              "      <td>4.0</td>\n",
              "      <td>4.0</td>\n",
              "      <td>3.0</td>\n",
              "      <td>4.0</td>\n",
              "      <td>4.0</td>\n",
              "      <td>3.0</td>\n",
              "      <td>4.0</td>\n",
              "      <td>3.0</td>\n",
              "      <td>4.0</td>\n",
              "      <td>4.0</td>\n",
              "      <td>2.0</td>\n",
              "      <td>4.0</td>\n",
              "      <td>4.0</td>\n",
              "      <td>4.0</td>\n",
              "      <td>1</td>\n",
              "      <td>0.000052</td>\n",
              "      <td>0.000139</td>\n",
              "      <td>0.998</td>\n",
              "      <td>0.0</td>\n",
              "    </tr>\n",
              "    <tr>\n",
              "      <th>3</th>\n",
              "      <td>4.0</td>\n",
              "      <td>4.0</td>\n",
              "      <td>2.0</td>\n",
              "      <td>2.0</td>\n",
              "      <td>3.0</td>\n",
              "      <td>4.0</td>\n",
              "      <td>4.0</td>\n",
              "      <td>3.0</td>\n",
              "      <td>4.0</td>\n",
              "      <td>4.0</td>\n",
              "      <td>3.0</td>\n",
              "      <td>4.0</td>\n",
              "      <td>3.0</td>\n",
              "      <td>4.0</td>\n",
              "      <td>4.0</td>\n",
              "      <td>2.0</td>\n",
              "      <td>4.0</td>\n",
              "      <td>4.0</td>\n",
              "      <td>4.0</td>\n",
              "      <td>1</td>\n",
              "      <td>0.000280</td>\n",
              "      <td>0.000482</td>\n",
              "      <td>0.992</td>\n",
              "      <td>0.0</td>\n",
              "    </tr>\n",
              "    <tr>\n",
              "      <th>4</th>\n",
              "      <td>5.0</td>\n",
              "      <td>4.0</td>\n",
              "      <td>2.0</td>\n",
              "      <td>2.0</td>\n",
              "      <td>3.0</td>\n",
              "      <td>4.0</td>\n",
              "      <td>4.0</td>\n",
              "      <td>3.0</td>\n",
              "      <td>4.0</td>\n",
              "      <td>4.0</td>\n",
              "      <td>3.0</td>\n",
              "      <td>4.0</td>\n",
              "      <td>3.0</td>\n",
              "      <td>4.0</td>\n",
              "      <td>4.0</td>\n",
              "      <td>2.0</td>\n",
              "      <td>4.0</td>\n",
              "      <td>4.0</td>\n",
              "      <td>4.0</td>\n",
              "      <td>1</td>\n",
              "      <td>0.003610</td>\n",
              "      <td>0.046400</td>\n",
              "      <td>0.949</td>\n",
              "      <td>0.0</td>\n",
              "    </tr>\n",
              "  </tbody>\n",
              "</table>\n",
              "</div>"
            ],
            "text/plain": [
              "   Index    1    2    3  ...  Unnamed: 21  Unnamed: 22  Unnamed: 23  von\n",
              "0    1.0  4.0  2.0  2.0  ...     0.000005     0.000005        0.999  0.0\n",
              "1    2.0  4.0  2.0  2.0  ...     0.000066     0.000139        0.997  0.0\n",
              "2    3.0  4.0  2.0  2.0  ...     0.000052     0.000139        0.998  0.0\n",
              "3    4.0  4.0  2.0  2.0  ...     0.000280     0.000482        0.992  0.0\n",
              "4    5.0  4.0  2.0  2.0  ...     0.003610     0.046400        0.949  0.0\n",
              "\n",
              "[5 rows x 24 columns]"
            ]
          },
          "metadata": {},
          "execution_count": 19
        }
      ]
    },
    {
      "cell_type": "code",
      "metadata": {
        "id": "VIJXSNz1Q2Qy"
      },
      "source": [
        "tmp=tmp.drop(columns=['Index'])"
      ],
      "execution_count": 20,
      "outputs": []
    },
    {
      "cell_type": "code",
      "metadata": {
        "id": "qpkLkKVgQ9_k"
      },
      "source": [
        "y_label=tmp['von']"
      ],
      "execution_count": 21,
      "outputs": []
    },
    {
      "cell_type": "code",
      "metadata": {
        "id": "oONNfwHsRArr"
      },
      "source": [
        "tmp=tmp.drop(columns=['von'])"
      ],
      "execution_count": 22,
      "outputs": []
    },
    {
      "cell_type": "code",
      "metadata": {
        "colab": {
          "base_uri": "https://localhost:8080/",
          "height": 204
        },
        "id": "9JEwOg3KRCY9",
        "outputId": "746900d1-0dfc-472f-eab8-ec4b7a0fb17b"
      },
      "source": [
        "tmp.head()"
      ],
      "execution_count": 23,
      "outputs": [
        {
          "output_type": "execute_result",
          "data": {
            "text/html": [
              "<div>\n",
              "<style scoped>\n",
              "    .dataframe tbody tr th:only-of-type {\n",
              "        vertical-align: middle;\n",
              "    }\n",
              "\n",
              "    .dataframe tbody tr th {\n",
              "        vertical-align: top;\n",
              "    }\n",
              "\n",
              "    .dataframe thead th {\n",
              "        text-align: right;\n",
              "    }\n",
              "</style>\n",
              "<table border=\"1\" class=\"dataframe\">\n",
              "  <thead>\n",
              "    <tr style=\"text-align: right;\">\n",
              "      <th></th>\n",
              "      <th>1</th>\n",
              "      <th>2</th>\n",
              "      <th>3</th>\n",
              "      <th>4</th>\n",
              "      <th>5</th>\n",
              "      <th>6</th>\n",
              "      <th>7</th>\n",
              "      <th>8</th>\n",
              "      <th>9</th>\n",
              "      <th>10</th>\n",
              "      <th>11</th>\n",
              "      <th>12</th>\n",
              "      <th>13</th>\n",
              "      <th>14</th>\n",
              "      <th>15</th>\n",
              "      <th>16</th>\n",
              "      <th>17</th>\n",
              "      <th>18</th>\n",
              "      <th>feeling</th>\n",
              "      <th>Unnamed: 21</th>\n",
              "      <th>Unnamed: 22</th>\n",
              "      <th>Unnamed: 23</th>\n",
              "    </tr>\n",
              "  </thead>\n",
              "  <tbody>\n",
              "    <tr>\n",
              "      <th>0</th>\n",
              "      <td>4.0</td>\n",
              "      <td>2.0</td>\n",
              "      <td>2.0</td>\n",
              "      <td>3.0</td>\n",
              "      <td>4.0</td>\n",
              "      <td>4.0</td>\n",
              "      <td>3.0</td>\n",
              "      <td>4.0</td>\n",
              "      <td>4.0</td>\n",
              "      <td>3.0</td>\n",
              "      <td>4.0</td>\n",
              "      <td>3.0</td>\n",
              "      <td>4.0</td>\n",
              "      <td>4.0</td>\n",
              "      <td>2.0</td>\n",
              "      <td>4.0</td>\n",
              "      <td>4.0</td>\n",
              "      <td>4.0</td>\n",
              "      <td>1</td>\n",
              "      <td>0.000005</td>\n",
              "      <td>0.000005</td>\n",
              "      <td>0.999</td>\n",
              "    </tr>\n",
              "    <tr>\n",
              "      <th>1</th>\n",
              "      <td>4.0</td>\n",
              "      <td>2.0</td>\n",
              "      <td>2.0</td>\n",
              "      <td>3.0</td>\n",
              "      <td>4.0</td>\n",
              "      <td>4.0</td>\n",
              "      <td>3.0</td>\n",
              "      <td>4.0</td>\n",
              "      <td>4.0</td>\n",
              "      <td>3.0</td>\n",
              "      <td>4.0</td>\n",
              "      <td>3.0</td>\n",
              "      <td>4.0</td>\n",
              "      <td>4.0</td>\n",
              "      <td>2.0</td>\n",
              "      <td>4.0</td>\n",
              "      <td>4.0</td>\n",
              "      <td>4.0</td>\n",
              "      <td>1</td>\n",
              "      <td>0.000066</td>\n",
              "      <td>0.000139</td>\n",
              "      <td>0.997</td>\n",
              "    </tr>\n",
              "    <tr>\n",
              "      <th>2</th>\n",
              "      <td>4.0</td>\n",
              "      <td>2.0</td>\n",
              "      <td>2.0</td>\n",
              "      <td>3.0</td>\n",
              "      <td>4.0</td>\n",
              "      <td>4.0</td>\n",
              "      <td>3.0</td>\n",
              "      <td>4.0</td>\n",
              "      <td>4.0</td>\n",
              "      <td>3.0</td>\n",
              "      <td>4.0</td>\n",
              "      <td>3.0</td>\n",
              "      <td>4.0</td>\n",
              "      <td>4.0</td>\n",
              "      <td>2.0</td>\n",
              "      <td>4.0</td>\n",
              "      <td>4.0</td>\n",
              "      <td>4.0</td>\n",
              "      <td>1</td>\n",
              "      <td>0.000052</td>\n",
              "      <td>0.000139</td>\n",
              "      <td>0.998</td>\n",
              "    </tr>\n",
              "    <tr>\n",
              "      <th>3</th>\n",
              "      <td>4.0</td>\n",
              "      <td>2.0</td>\n",
              "      <td>2.0</td>\n",
              "      <td>3.0</td>\n",
              "      <td>4.0</td>\n",
              "      <td>4.0</td>\n",
              "      <td>3.0</td>\n",
              "      <td>4.0</td>\n",
              "      <td>4.0</td>\n",
              "      <td>3.0</td>\n",
              "      <td>4.0</td>\n",
              "      <td>3.0</td>\n",
              "      <td>4.0</td>\n",
              "      <td>4.0</td>\n",
              "      <td>2.0</td>\n",
              "      <td>4.0</td>\n",
              "      <td>4.0</td>\n",
              "      <td>4.0</td>\n",
              "      <td>1</td>\n",
              "      <td>0.000280</td>\n",
              "      <td>0.000482</td>\n",
              "      <td>0.992</td>\n",
              "    </tr>\n",
              "    <tr>\n",
              "      <th>4</th>\n",
              "      <td>4.0</td>\n",
              "      <td>2.0</td>\n",
              "      <td>2.0</td>\n",
              "      <td>3.0</td>\n",
              "      <td>4.0</td>\n",
              "      <td>4.0</td>\n",
              "      <td>3.0</td>\n",
              "      <td>4.0</td>\n",
              "      <td>4.0</td>\n",
              "      <td>3.0</td>\n",
              "      <td>4.0</td>\n",
              "      <td>3.0</td>\n",
              "      <td>4.0</td>\n",
              "      <td>4.0</td>\n",
              "      <td>2.0</td>\n",
              "      <td>4.0</td>\n",
              "      <td>4.0</td>\n",
              "      <td>4.0</td>\n",
              "      <td>1</td>\n",
              "      <td>0.003610</td>\n",
              "      <td>0.046400</td>\n",
              "      <td>0.949</td>\n",
              "    </tr>\n",
              "  </tbody>\n",
              "</table>\n",
              "</div>"
            ],
            "text/plain": [
              "     1    2    3    4    5  ...   18  feeling  Unnamed: 21  Unnamed: 22  Unnamed: 23\n",
              "0  4.0  2.0  2.0  3.0  4.0  ...  4.0        1     0.000005     0.000005        0.999\n",
              "1  4.0  2.0  2.0  3.0  4.0  ...  4.0        1     0.000066     0.000139        0.997\n",
              "2  4.0  2.0  2.0  3.0  4.0  ...  4.0        1     0.000052     0.000139        0.998\n",
              "3  4.0  2.0  2.0  3.0  4.0  ...  4.0        1     0.000280     0.000482        0.992\n",
              "4  4.0  2.0  2.0  3.0  4.0  ...  4.0        1     0.003610     0.046400        0.949\n",
              "\n",
              "[5 rows x 22 columns]"
            ]
          },
          "metadata": {},
          "execution_count": 23
        }
      ]
    },
    {
      "cell_type": "code",
      "metadata": {
        "id": "jaljm3MURE6f"
      },
      "source": [
        "from sklearn.preprocessing import RobustScaler\n",
        "rs=RobustScaler()\n",
        "tmp_rs=rs.fit_transform(tmp)"
      ],
      "execution_count": 24,
      "outputs": []
    },
    {
      "cell_type": "code",
      "metadata": {
        "id": "l0_nzeOJRijk"
      },
      "source": [
        "from sklearn.model_selection import train_test_split\n",
        "X_train, X_test, y_train, y_test = train_test_split(tmp_rs, y_label, test_size=0.2, random_state=42)"
      ],
      "execution_count": null,
      "outputs": []
    },
    {
      "cell_type": "code",
      "metadata": {
        "id": "zurt6vKlVy8j"
      },
      "source": [
        "X_train_db=pd.DataFrame(X_train)"
      ],
      "execution_count": null,
      "outputs": []
    },
    {
      "cell_type": "code",
      "metadata": {
        "id": "L-Mxinp_Sevg"
      },
      "source": [
        "model = models.Sequential()\n",
        "model.add(layers.Dense(units=512, activation='relu', input_shape=(4140,22)))\n",
        "model.add(layers.Dense(units=128, activation='relu'))\n",
        "model.add(layers.Dense(units=32, activation='relu'))\n",
        "model.add(layers.Dense(units=16, activation='relu'))\n",
        "model.add(layers.Dense(units=8, activation='relu'))\n",
        "model.add(layers.Dense(units=1, activation='sigmoid'))"
      ],
      "execution_count": 26,
      "outputs": []
    },
    {
      "cell_type": "code",
      "metadata": {
        "id": "dQsrCgVmSf07"
      },
      "source": [
        "model.compile(loss='binary_crossentropy', optimizer='rmsprop', metrics=['accuracy'])"
      ],
      "execution_count": 27,
      "outputs": []
    },
    {
      "cell_type": "code",
      "metadata": {
        "colab": {
          "base_uri": "https://localhost:8080/"
        },
        "id": "YNAjiyEFX-zX",
        "outputId": "8610b153-c8c8-4a0d-b416-0d9fc1676640"
      },
      "source": [
        "tmp_rs"
      ],
      "execution_count": null,
      "outputs": [
        {
          "output_type": "execute_result",
          "data": {
            "text/plain": [
              "array([[ 1.        ,  0.        ,  0.        , ...,  0.49440056,\n",
              "        -0.54940272,  0.77043735],\n",
              "       [ 1.        ,  0.        ,  0.        , ...,  2.59112805,\n",
              "        -1.73200834,  0.42800218],\n",
              "       [ 1.        ,  0.        ,  0.        , ..., -0.17789282,\n",
              "        -0.17563088,  0.89062588],\n",
              "       ...,\n",
              "       [ 1.        ,  0.        , -0.5       , ...,  3.55792121,\n",
              "        -2.56661589,  0.82508967],\n",
              "       [ 1.        ,  0.        , -0.5       , ..., -0.06809657,\n",
              "         0.21737313,  0.        ],\n",
              "       [ 1.        ,  0.        , -0.5       , ..., -0.05562949,\n",
              "        -0.1742423 ,  0.73570409]])"
            ]
          },
          "metadata": {},
          "execution_count": 163
        }
      ]
    },
    {
      "cell_type": "code",
      "metadata": {
        "colab": {
          "base_uri": "https://localhost:8080/"
        },
        "id": "m4ZtbgRiSfyu",
        "outputId": "504e316c-6407-479f-8d64-10b8a84d1a1d"
      },
      "source": [
        "model.fit(x=tmp_rs, y=y_label, batch_size=512, epochs=30, validation_split=0.2)"
      ],
      "execution_count": 28,
      "outputs": [
        {
          "output_type": "stream",
          "name": "stdout",
          "text": [
            "Epoch 1/30\n",
            "WARNING:tensorflow:Model was constructed with shape (None, 4140, 22) for input KerasTensor(type_spec=TensorSpec(shape=(None, 4140, 22), dtype=tf.float32, name='dense_input'), name='dense_input', description=\"created by layer 'dense_input'\"), but it was called on an input with incompatible shape (None, 22).\n",
            "WARNING:tensorflow:Model was constructed with shape (None, 4140, 22) for input KerasTensor(type_spec=TensorSpec(shape=(None, 4140, 22), dtype=tf.float32, name='dense_input'), name='dense_input', description=\"created by layer 'dense_input'\"), but it was called on an input with incompatible shape (None, 22).\n",
            "7/7 [==============================] - ETA: 0s - loss: 0.6418 - accuracy: 0.6283WARNING:tensorflow:Model was constructed with shape (None, 4140, 22) for input KerasTensor(type_spec=TensorSpec(shape=(None, 4140, 22), dtype=tf.float32, name='dense_input'), name='dense_input', description=\"created by layer 'dense_input'\"), but it was called on an input with incompatible shape (None, 22).\n",
            "7/7 [==============================] - 2s 43ms/step - loss: 0.6418 - accuracy: 0.6283 - val_loss: 0.8708 - val_accuracy: 0.5229\n",
            "Epoch 2/30\n",
            "7/7 [==============================] - 0s 13ms/step - loss: 0.5663 - accuracy: 0.7129 - val_loss: 1.1305 - val_accuracy: 0.4867\n",
            "Epoch 3/30\n",
            "7/7 [==============================] - 0s 16ms/step - loss: 0.5345 - accuracy: 0.7415 - val_loss: 0.8208 - val_accuracy: 0.5556\n",
            "Epoch 4/30\n",
            "7/7 [==============================] - 0s 13ms/step - loss: 0.5185 - accuracy: 0.7443 - val_loss: 1.0493 - val_accuracy: 0.4783\n",
            "Epoch 5/30\n",
            "7/7 [==============================] - 0s 14ms/step - loss: 0.5044 - accuracy: 0.7485 - val_loss: 1.1226 - val_accuracy: 0.4783\n",
            "Epoch 6/30\n",
            "7/7 [==============================] - 0s 14ms/step - loss: 0.4724 - accuracy: 0.7732 - val_loss: 0.9218 - val_accuracy: 0.5556\n",
            "Epoch 7/30\n",
            "7/7 [==============================] - 0s 13ms/step - loss: 0.4897 - accuracy: 0.7612 - val_loss: 1.3258 - val_accuracy: 0.4783\n",
            "Epoch 8/30\n",
            "7/7 [==============================] - 0s 13ms/step - loss: 0.4614 - accuracy: 0.7823 - val_loss: 1.2575 - val_accuracy: 0.4746\n",
            "Epoch 9/30\n",
            "7/7 [==============================] - 0s 13ms/step - loss: 0.4415 - accuracy: 0.7944 - val_loss: 0.8449 - val_accuracy: 0.5604\n",
            "Epoch 10/30\n",
            "7/7 [==============================] - 0s 16ms/step - loss: 0.4412 - accuracy: 0.7908 - val_loss: 1.4632 - val_accuracy: 0.4928\n",
            "Epoch 11/30\n",
            "7/7 [==============================] - 0s 15ms/step - loss: 0.4580 - accuracy: 0.7823 - val_loss: 1.1947 - val_accuracy: 0.4891\n",
            "Epoch 12/30\n",
            "7/7 [==============================] - 0s 15ms/step - loss: 0.4178 - accuracy: 0.8116 - val_loss: 1.1705 - val_accuracy: 0.4867\n",
            "Epoch 13/30\n",
            "7/7 [==============================] - 0s 14ms/step - loss: 0.4141 - accuracy: 0.8134 - val_loss: 1.3257 - val_accuracy: 0.4565\n",
            "Epoch 14/30\n",
            "7/7 [==============================] - 0s 14ms/step - loss: 0.4274 - accuracy: 0.7977 - val_loss: 1.3379 - val_accuracy: 0.4976\n",
            "Epoch 15/30\n",
            "7/7 [==============================] - 0s 17ms/step - loss: 0.3906 - accuracy: 0.8210 - val_loss: 1.4998 - val_accuracy: 0.4710\n",
            "Epoch 16/30\n",
            "7/7 [==============================] - 0s 13ms/step - loss: 0.4158 - accuracy: 0.8077 - val_loss: 1.1985 - val_accuracy: 0.4952\n",
            "Epoch 17/30\n",
            "7/7 [==============================] - 0s 15ms/step - loss: 0.3848 - accuracy: 0.8243 - val_loss: 1.4285 - val_accuracy: 0.4831\n",
            "Epoch 18/30\n",
            "7/7 [==============================] - 0s 13ms/step - loss: 0.4066 - accuracy: 0.8071 - val_loss: 1.4074 - val_accuracy: 0.4855\n",
            "Epoch 19/30\n",
            "7/7 [==============================] - 0s 14ms/step - loss: 0.3757 - accuracy: 0.8273 - val_loss: 1.1292 - val_accuracy: 0.5338\n",
            "Epoch 20/30\n",
            "7/7 [==============================] - 0s 14ms/step - loss: 0.3848 - accuracy: 0.8197 - val_loss: 1.8966 - val_accuracy: 0.4626\n",
            "Epoch 21/30\n",
            "7/7 [==============================] - 0s 15ms/step - loss: 0.3989 - accuracy: 0.8083 - val_loss: 1.7259 - val_accuracy: 0.4867\n",
            "Epoch 22/30\n",
            "7/7 [==============================] - 0s 13ms/step - loss: 0.3828 - accuracy: 0.8207 - val_loss: 2.0423 - val_accuracy: 0.4819\n",
            "Epoch 23/30\n",
            "7/7 [==============================] - 0s 15ms/step - loss: 0.3800 - accuracy: 0.8210 - val_loss: 1.5182 - val_accuracy: 0.4903\n",
            "Epoch 24/30\n",
            "7/7 [==============================] - 0s 13ms/step - loss: 0.3655 - accuracy: 0.8276 - val_loss: 2.0169 - val_accuracy: 0.5217\n",
            "Epoch 25/30\n",
            "7/7 [==============================] - 0s 15ms/step - loss: 0.3822 - accuracy: 0.8194 - val_loss: 1.2504 - val_accuracy: 0.5278\n",
            "Epoch 26/30\n",
            "7/7 [==============================] - 0s 13ms/step - loss: 0.3890 - accuracy: 0.8149 - val_loss: 1.4222 - val_accuracy: 0.5085\n",
            "Epoch 27/30\n",
            "7/7 [==============================] - 0s 13ms/step - loss: 0.3641 - accuracy: 0.8282 - val_loss: 2.1803 - val_accuracy: 0.4976\n",
            "Epoch 28/30\n",
            "7/7 [==============================] - 0s 14ms/step - loss: 0.3726 - accuracy: 0.8225 - val_loss: 1.6914 - val_accuracy: 0.4831\n",
            "Epoch 29/30\n",
            "7/7 [==============================] - 0s 13ms/step - loss: 0.3781 - accuracy: 0.8152 - val_loss: 2.0158 - val_accuracy: 0.4928\n",
            "Epoch 30/30\n",
            "7/7 [==============================] - 0s 14ms/step - loss: 0.3675 - accuracy: 0.8243 - val_loss: 1.5937 - val_accuracy: 0.4940\n"
          ]
        },
        {
          "output_type": "execute_result",
          "data": {
            "text/plain": [
              "<keras.callbacks.History at 0x7f89efbbc050>"
            ]
          },
          "metadata": {},
          "execution_count": 28
        }
      ]
    },
    {
      "cell_type": "code",
      "metadata": {
        "id": "cwo9VVgYSfvU"
      },
      "source": [
        "from keras.models import load_model\n",
        "\n",
        "model.save('test_model_final.h5')"
      ],
      "execution_count": 29,
      "outputs": []
    },
    {
      "cell_type": "code",
      "metadata": {
        "colab": {
          "base_uri": "https://localhost:8080/"
        },
        "id": "GwXZv3TGSfst",
        "outputId": "149c1d9c-8751-4fa7-fd19-b7c2a38a0db7"
      },
      "source": [
        "model.summary()"
      ],
      "execution_count": 30,
      "outputs": [
        {
          "output_type": "stream",
          "name": "stdout",
          "text": [
            "Model: \"sequential\"\n",
            "_________________________________________________________________\n",
            "Layer (type)                 Output Shape              Param #   \n",
            "=================================================================\n",
            "dense (Dense)                (None, 4140, 512)         11776     \n",
            "_________________________________________________________________\n",
            "dense_1 (Dense)              (None, 4140, 128)         65664     \n",
            "_________________________________________________________________\n",
            "dense_2 (Dense)              (None, 4140, 32)          4128      \n",
            "_________________________________________________________________\n",
            "dense_3 (Dense)              (None, 4140, 16)          528       \n",
            "_________________________________________________________________\n",
            "dense_4 (Dense)              (None, 4140, 8)           136       \n",
            "_________________________________________________________________\n",
            "dense_5 (Dense)              (None, 4140, 1)           9         \n",
            "=================================================================\n",
            "Total params: 82,241\n",
            "Trainable params: 82,241\n",
            "Non-trainable params: 0\n",
            "_________________________________________________________________\n"
          ]
        }
      ]
    },
    {
      "cell_type": "code",
      "metadata": {
        "id": "JjgU7YwkSfqJ"
      },
      "source": [
        ""
      ],
      "execution_count": null,
      "outputs": []
    },
    {
      "cell_type": "code",
      "metadata": {
        "id": "kG8BUyuqSfnh"
      },
      "source": [
        ""
      ],
      "execution_count": null,
      "outputs": []
    },
    {
      "cell_type": "code",
      "metadata": {
        "id": "OYLYZ-3PPTbI"
      },
      "source": [
        ""
      ],
      "execution_count": null,
      "outputs": []
    }
  ]
}